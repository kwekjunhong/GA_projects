{
 "cells": [
  {
   "cell_type": "markdown",
   "id": "93c3a446",
   "metadata": {},
   "source": [
    "# GA DSI 26: Project 3 - Reddit Subreddits Classification\n",
    "***\n",
    "\n",
    "## Notebook organisation\n",
    "- **Notebook 1: Introduction, Web scraping and Data Acquisition (current notebook)**\n",
    "- Notebook 2: EDA and Pre-Processing\n",
    "- Notebook 3: Model Preparation, Tuning, Insights and Conclusion\n",
    "\n",
    "\n",
    "## Introduction\n",
    "***\n",
    "Reddit is a social news aggregation, web content rating, and discussion website. It was founded in 2005 by Steve Huffman, Alexis Ohanian and Aaron Swartz. Reddit was ranked as the 9th most popular social media app in the US and it has over 430 million monthly active users. Subreddits are groups on Reddit dedicated to a specific topic where people can discuss and share their opinions with others on that subreddits. There are currently over 100,000 active communities within Reddit that covers various topics and subjects [(source)](https://backlinko.com/reddit-users).\n",
    "\n",
    "Users can upload posts or comments in the subreddits facilitating a discussion. In addition, users can rate the posts by upvoting or downvoting the posts based on their own feelings on the posts."
   ]
  },
  {
   "cell_type": "markdown",
   "id": "d235b4fe",
   "metadata": {},
   "source": [
    "## Problem Statement\n",
    "***\n",
    "\n",
    "As an employee at a computer building company in Singapore, the company receive many requests from customers regarding new computer build and after sales support for their PC. The volume of requests has increased and is requiring more staff to sort and classify these requests between PC building queries or after-sales support for their computer. Hence, the company wants to build a classification model to sort and classify future incoming requests into the two categories of PC building queries or after-sales support. \n",
    "\n",
    "As the company does not archive and store past queries sent to the company, to build this classification model, the Reddit posts in two relevant subreddits shall be used in place of real customers enquiries to train and test the model. \n",
    "\n",
    "The subreddits identified are [r/buildapc ](https://www.reddit.com/r/buildapc/) and [r/techsupport ](https://www.reddit.com/r/techsupport/). Both subreddits are extremely popular with 4.8 million members on [r/buildapc ](https://www.reddit.com/r/buildapc/) and 1.6 million members on [r/techsupport ](https://www.reddit.com/r/techsupport/). Both subreddits offer answers, support and advice for technology and computers from questions posed by users.\n",
    "- [r/buildapc ](https://www.reddit.com/r/buildapc/) is focused on questions and providing advise regarding the hardware choices for building a custom desktop computer.\n",
    "\n",
    "- [r/techsupport ](https://www.reddit.com/r/techsupport/) is focused on providing answers to questions on technology and most of the questions are computer related with some questions about consoles and mobile phones but these are few as there are other relevant subreddits that have a specific focus on support for those products.\n"
   ]
  },
  {
   "cell_type": "markdown",
   "id": "cb2ad158",
   "metadata": {},
   "source": [
    "## Executive Summary\n",
    "***\n",
    "From the 6 models tested, the best performing model to classify incoming queries into the two categories of queries relating to building a PC or after sales support for the computer purchased from the company would be the TfidfVectorizer with Multinomial Naive Bayes. The model is able to correctly classify 86.9% of the posts. There would still be room for improvement to cater for the remaining 13.1% of posts that would be wrongly classified.\n",
    "\n",
    "With this model, the company can implement this model as automated first step of classification for incoming queries without need for human oversight as it is able to correctly classify the incoming queries at a high success rate. Subsequently, as the staff reviews the queries and finds out it is wrong, they can transfer the queries across to the correct department while flagging the wrong query for further analysis to improve the model.\n",
    "\n",
    "\n"
   ]
  },
  {
   "cell_type": "markdown",
   "id": "f493ac40",
   "metadata": {},
   "source": [
    "## Scrapping Data from Subreddits\n",
    "***\n",
    "\n",
    "After identifying the subreddits, the next step would be to scrap the subreddits and obtain the posts to build a dataset for training and testing of the model. "
   ]
  },
  {
   "cell_type": "code",
   "execution_count": 1,
   "id": "a80d590e",
   "metadata": {
    "ExecuteTime": {
     "end_time": "2022-01-13T11:01:37.282975Z",
     "start_time": "2022-01-13T11:01:36.728208Z"
    }
   },
   "outputs": [],
   "source": [
    "# import libraries\n",
    "\n",
    "import requests\n",
    "import pandas as pd"
   ]
  },
  {
   "cell_type": "markdown",
   "id": "9dcf499f",
   "metadata": {},
   "source": [
    "### Define a custom function for scrapping data from a subreddit"
   ]
  },
  {
   "cell_type": "code",
   "execution_count": 2,
   "id": "c6a027d0",
   "metadata": {
    "ExecuteTime": {
     "end_time": "2022-01-13T11:01:37.614585Z",
     "start_time": "2022-01-13T11:01:37.594762Z"
    }
   },
   "outputs": [],
   "source": [
    "def scrap_data(subreddit):\n",
    "    \"\"\"Function to scrap 1000 posts from the subreddit specified\"\"\"\n",
    "    url = 'https://api.pushshift.io/reddit/search/submission?subreddit=' + subreddit \n",
    "    \n",
    "    initial_params = {\n",
    "        'subreddit' : subreddit,\n",
    "        'size' : 100\n",
    "    }\n",
    "    \n",
    "    res = requests.get(url, initial_params)\n",
    "    \n",
    "    data = res.json()\n",
    "    posts = data['data']\n",
    "    \n",
    "    df = pd.DataFrame(posts)\n",
    "    \n",
    "    last_epoch = df['created_utc'][99]\n",
    "    \n",
    "    params_1 = {\n",
    "        'subreddit' : subreddit,\n",
    "        'size' : 100,\n",
    "        'before' : last_epoch\n",
    "    }\n",
    "    \n",
    "    count = 1\n",
    "    \n",
    "    while count != 10:\n",
    "        res = requests.get(url, params_1)\n",
    "        data = res.json()\n",
    "        posts = data['data']\n",
    "        df_1 = pd.DataFrame(posts)\n",
    "        df = pd.concat([df, df_1])\n",
    "        \n",
    "        last_epoch = df_1['created_utc'][99]\n",
    "        \n",
    "        params_1 = {\n",
    "        'subreddit' : subreddit,\n",
    "        'size' : 100,\n",
    "        'before' : last_epoch\n",
    "        }\n",
    "                \n",
    "        count += 1\n",
    "    \n",
    "    df.reset_index(inplace = True, drop = True)\n",
    "    \n",
    "    return df"
   ]
  },
  {
   "cell_type": "markdown",
   "id": "21ffe2a4",
   "metadata": {},
   "source": [
    "### Scrapping data from both subreddits\n",
    "\n",
    "I will be using the function above to scrap data from the subreddits and to export a copy to a csv file. The data would then be worked on for some data cleaning before re-exporting to an updated csv file. \n",
    "\n",
    "The data in this notebook was scrapped from the subreddits on 13th January 2022. "
   ]
  },
  {
   "cell_type": "code",
   "execution_count": 17,
   "id": "4092da66",
   "metadata": {
    "ExecuteTime": {
     "end_time": "2022-01-13T11:06:17.127466Z",
     "start_time": "2022-01-13T11:05:19.853820Z"
    }
   },
   "outputs": [],
   "source": [
    "# run the function to get data from r/buildapc subreddit\n",
    "buildapc = scrap_data('buildapc')"
   ]
  },
  {
   "cell_type": "code",
   "execution_count": 18,
   "id": "bcdb4b82",
   "metadata": {
    "ExecuteTime": {
     "end_time": "2022-01-13T11:07:07.474785Z",
     "start_time": "2022-01-13T11:06:17.129341Z"
    }
   },
   "outputs": [],
   "source": [
    "# run the function to get data from r/techsupport subreddit\n",
    "techsupport = scrap_data('techsupport')"
   ]
  },
  {
   "cell_type": "markdown",
   "id": "15401c24",
   "metadata": {},
   "source": [
    "## Data Cleaning "
   ]
  },
  {
   "cell_type": "markdown",
   "id": "27db92f4",
   "metadata": {},
   "source": [
    "### For r/buildapc subreddit"
   ]
  },
  {
   "cell_type": "code",
   "execution_count": 19,
   "id": "cc9efcd7",
   "metadata": {
    "ExecuteTime": {
     "end_time": "2022-01-13T11:07:07.490185Z",
     "start_time": "2022-01-13T11:07:07.479059Z"
    }
   },
   "outputs": [
    {
     "data": {
      "text/plain": [
       "(1000, 67)"
      ]
     },
     "execution_count": 19,
     "metadata": {},
     "output_type": "execute_result"
    }
   ],
   "source": [
    "# check the shape of the final dataframe to ensure there are 1000 entries\n",
    "buildapc.shape"
   ]
  },
  {
   "cell_type": "code",
   "execution_count": 20,
   "id": "81fffb55",
   "metadata": {
    "ExecuteTime": {
     "end_time": "2022-01-13T11:07:07.549370Z",
     "start_time": "2022-01-13T11:07:07.494179Z"
    }
   },
   "outputs": [
    {
     "data": {
      "text/html": [
       "<div>\n",
       "<style scoped>\n",
       "    .dataframe tbody tr th:only-of-type {\n",
       "        vertical-align: middle;\n",
       "    }\n",
       "\n",
       "    .dataframe tbody tr th {\n",
       "        vertical-align: top;\n",
       "    }\n",
       "\n",
       "    .dataframe thead th {\n",
       "        text-align: right;\n",
       "    }\n",
       "</style>\n",
       "<table border=\"1\" class=\"dataframe\">\n",
       "  <thead>\n",
       "    <tr style=\"text-align: right;\">\n",
       "      <th></th>\n",
       "      <th>all_awardings</th>\n",
       "      <th>allow_live_comments</th>\n",
       "      <th>author</th>\n",
       "      <th>author_flair_css_class</th>\n",
       "      <th>author_flair_richtext</th>\n",
       "      <th>author_flair_text</th>\n",
       "      <th>author_flair_type</th>\n",
       "      <th>author_fullname</th>\n",
       "      <th>author_is_blocked</th>\n",
       "      <th>author_patreon_flair</th>\n",
       "      <th>...</th>\n",
       "      <th>upvote_ratio</th>\n",
       "      <th>url</th>\n",
       "      <th>whitelist_status</th>\n",
       "      <th>wls</th>\n",
       "      <th>link_flair_template_id</th>\n",
       "      <th>link_flair_text</th>\n",
       "      <th>post_hint</th>\n",
       "      <th>preview</th>\n",
       "      <th>removed_by_category</th>\n",
       "      <th>author_cakeday</th>\n",
       "    </tr>\n",
       "  </thead>\n",
       "  <tbody>\n",
       "    <tr>\n",
       "      <th>0</th>\n",
       "      <td>[]</td>\n",
       "      <td>False</td>\n",
       "      <td>Loud_Ad_5985</td>\n",
       "      <td>None</td>\n",
       "      <td>[]</td>\n",
       "      <td>None</td>\n",
       "      <td>text</td>\n",
       "      <td>t2_6hfuzcim</td>\n",
       "      <td>False</td>\n",
       "      <td>False</td>\n",
       "      <td>...</td>\n",
       "      <td>1.00</td>\n",
       "      <td>https://www.reddit.com/r/buildapc/comments/s2w...</td>\n",
       "      <td>all_ads</td>\n",
       "      <td>6</td>\n",
       "      <td>NaN</td>\n",
       "      <td>NaN</td>\n",
       "      <td>NaN</td>\n",
       "      <td>NaN</td>\n",
       "      <td>NaN</td>\n",
       "      <td>NaN</td>\n",
       "    </tr>\n",
       "    <tr>\n",
       "      <th>1</th>\n",
       "      <td>[]</td>\n",
       "      <td>False</td>\n",
       "      <td>Zenivoo</td>\n",
       "      <td>None</td>\n",
       "      <td>[]</td>\n",
       "      <td>None</td>\n",
       "      <td>text</td>\n",
       "      <td>t2_gg5faco</td>\n",
       "      <td>False</td>\n",
       "      <td>False</td>\n",
       "      <td>...</td>\n",
       "      <td>1.00</td>\n",
       "      <td>https://www.reddit.com/r/buildapc/comments/s2w...</td>\n",
       "      <td>all_ads</td>\n",
       "      <td>6</td>\n",
       "      <td>7338e9ba-5cc3-11e3-9815-12313b0ae6f4</td>\n",
       "      <td>Build Help</td>\n",
       "      <td>self</td>\n",
       "      <td>{'enabled': False, 'images': [{'id': 'dbtQ9A34...</td>\n",
       "      <td>NaN</td>\n",
       "      <td>NaN</td>\n",
       "    </tr>\n",
       "    <tr>\n",
       "      <th>2</th>\n",
       "      <td>[]</td>\n",
       "      <td>False</td>\n",
       "      <td>craigmorris78</td>\n",
       "      <td>None</td>\n",
       "      <td>[]</td>\n",
       "      <td>None</td>\n",
       "      <td>text</td>\n",
       "      <td>t2_b2w30</td>\n",
       "      <td>False</td>\n",
       "      <td>False</td>\n",
       "      <td>...</td>\n",
       "      <td>1.00</td>\n",
       "      <td>https://www.reddit.com/r/buildapc/comments/s2w...</td>\n",
       "      <td>all_ads</td>\n",
       "      <td>6</td>\n",
       "      <td>7338e9ba-5cc3-11e3-9815-12313b0ae6f4</td>\n",
       "      <td>Build Help</td>\n",
       "      <td>NaN</td>\n",
       "      <td>NaN</td>\n",
       "      <td>NaN</td>\n",
       "      <td>NaN</td>\n",
       "    </tr>\n",
       "    <tr>\n",
       "      <th>3</th>\n",
       "      <td>[]</td>\n",
       "      <td>False</td>\n",
       "      <td>tempacc777</td>\n",
       "      <td>None</td>\n",
       "      <td>[]</td>\n",
       "      <td>None</td>\n",
       "      <td>text</td>\n",
       "      <td>t2_5vhzga6j</td>\n",
       "      <td>False</td>\n",
       "      <td>False</td>\n",
       "      <td>...</td>\n",
       "      <td>1.00</td>\n",
       "      <td>https://www.reddit.com/r/buildapc/comments/s2w...</td>\n",
       "      <td>all_ads</td>\n",
       "      <td>6</td>\n",
       "      <td>NaN</td>\n",
       "      <td>NaN</td>\n",
       "      <td>NaN</td>\n",
       "      <td>NaN</td>\n",
       "      <td>NaN</td>\n",
       "      <td>NaN</td>\n",
       "    </tr>\n",
       "    <tr>\n",
       "      <th>4</th>\n",
       "      <td>[]</td>\n",
       "      <td>False</td>\n",
       "      <td>Y0da_on_crack</td>\n",
       "      <td>None</td>\n",
       "      <td>[]</td>\n",
       "      <td>None</td>\n",
       "      <td>text</td>\n",
       "      <td>t2_4giszggq</td>\n",
       "      <td>False</td>\n",
       "      <td>False</td>\n",
       "      <td>...</td>\n",
       "      <td>0.99</td>\n",
       "      <td>https://www.reddit.com/r/buildapc/comments/s2w...</td>\n",
       "      <td>all_ads</td>\n",
       "      <td>6</td>\n",
       "      <td>NaN</td>\n",
       "      <td>NaN</td>\n",
       "      <td>NaN</td>\n",
       "      <td>NaN</td>\n",
       "      <td>NaN</td>\n",
       "      <td>NaN</td>\n",
       "    </tr>\n",
       "  </tbody>\n",
       "</table>\n",
       "<p>5 rows × 67 columns</p>\n",
       "</div>"
      ],
      "text/plain": [
       "  all_awardings  allow_live_comments         author author_flair_css_class  \\\n",
       "0            []                False   Loud_Ad_5985                   None   \n",
       "1            []                False        Zenivoo                   None   \n",
       "2            []                False  craigmorris78                   None   \n",
       "3            []                False     tempacc777                   None   \n",
       "4            []                False  Y0da_on_crack                   None   \n",
       "\n",
       "  author_flair_richtext author_flair_text author_flair_type author_fullname  \\\n",
       "0                    []              None              text     t2_6hfuzcim   \n",
       "1                    []              None              text      t2_gg5faco   \n",
       "2                    []              None              text        t2_b2w30   \n",
       "3                    []              None              text     t2_5vhzga6j   \n",
       "4                    []              None              text     t2_4giszggq   \n",
       "\n",
       "   author_is_blocked  author_patreon_flair  ...  upvote_ratio  \\\n",
       "0              False                 False  ...          1.00   \n",
       "1              False                 False  ...          1.00   \n",
       "2              False                 False  ...          1.00   \n",
       "3              False                 False  ...          1.00   \n",
       "4              False                 False  ...          0.99   \n",
       "\n",
       "                                                 url  whitelist_status  wls  \\\n",
       "0  https://www.reddit.com/r/buildapc/comments/s2w...           all_ads    6   \n",
       "1  https://www.reddit.com/r/buildapc/comments/s2w...           all_ads    6   \n",
       "2  https://www.reddit.com/r/buildapc/comments/s2w...           all_ads    6   \n",
       "3  https://www.reddit.com/r/buildapc/comments/s2w...           all_ads    6   \n",
       "4  https://www.reddit.com/r/buildapc/comments/s2w...           all_ads    6   \n",
       "\n",
       "                 link_flair_template_id link_flair_text post_hint  \\\n",
       "0                                   NaN             NaN       NaN   \n",
       "1  7338e9ba-5cc3-11e3-9815-12313b0ae6f4      Build Help      self   \n",
       "2  7338e9ba-5cc3-11e3-9815-12313b0ae6f4      Build Help       NaN   \n",
       "3                                   NaN             NaN       NaN   \n",
       "4                                   NaN             NaN       NaN   \n",
       "\n",
       "                                             preview removed_by_category  \\\n",
       "0                                                NaN                 NaN   \n",
       "1  {'enabled': False, 'images': [{'id': 'dbtQ9A34...                 NaN   \n",
       "2                                                NaN                 NaN   \n",
       "3                                                NaN                 NaN   \n",
       "4                                                NaN                 NaN   \n",
       "\n",
       "   author_cakeday  \n",
       "0             NaN  \n",
       "1             NaN  \n",
       "2             NaN  \n",
       "3             NaN  \n",
       "4             NaN  \n",
       "\n",
       "[5 rows x 67 columns]"
      ]
     },
     "execution_count": 20,
     "metadata": {},
     "output_type": "execute_result"
    }
   ],
   "source": [
    "buildapc.head()"
   ]
  },
  {
   "cell_type": "code",
   "execution_count": 21,
   "id": "b1ed7713",
   "metadata": {
    "ExecuteTime": {
     "end_time": "2022-01-13T11:07:07.574275Z",
     "start_time": "2022-01-13T11:07:07.551366Z"
    }
   },
   "outputs": [
    {
     "data": {
      "text/plain": [
       "Index(['all_awardings', 'allow_live_comments', 'author',\n",
       "       'author_flair_css_class', 'author_flair_richtext', 'author_flair_text',\n",
       "       'author_flair_type', 'author_fullname', 'author_is_blocked',\n",
       "       'author_patreon_flair', 'author_premium', 'awarders', 'can_mod_post',\n",
       "       'contest_mode', 'created_utc', 'domain', 'full_link', 'gildings', 'id',\n",
       "       'is_created_from_ads_ui', 'is_crosspostable', 'is_meta',\n",
       "       'is_original_content', 'is_reddit_media_domain', 'is_robot_indexable',\n",
       "       'is_self', 'is_video', 'link_flair_background_color',\n",
       "       'link_flair_css_class', 'link_flair_richtext', 'link_flair_text_color',\n",
       "       'link_flair_type', 'locked', 'media_only', 'no_follow', 'num_comments',\n",
       "       'num_crossposts', 'over_18', 'parent_whitelist_status', 'permalink',\n",
       "       'pinned', 'pwls', 'retrieved_on', 'score', 'selftext', 'send_replies',\n",
       "       'spoiler', 'stickied', 'subreddit', 'subreddit_id',\n",
       "       'subreddit_subscribers', 'subreddit_type', 'suggested_sort',\n",
       "       'thumbnail', 'title', 'total_awards_received', 'treatment_tags',\n",
       "       'upvote_ratio', 'url', 'whitelist_status', 'wls',\n",
       "       'link_flair_template_id', 'link_flair_text', 'post_hint', 'preview',\n",
       "       'removed_by_category', 'author_cakeday'],\n",
       "      dtype='object')"
      ]
     },
     "execution_count": 21,
     "metadata": {},
     "output_type": "execute_result"
    }
   ],
   "source": [
    "# get the columns names of the dataframe\n",
    "buildapc.columns"
   ]
  },
  {
   "cell_type": "markdown",
   "id": "4108ee2b",
   "metadata": {},
   "source": [
    "The columns that we are interested in to build the classification model would be `'subreddit'`, `'title'` and `'selftext'`. We will be checking for null values and duplicates in these columns before exporting the data to a csv file.  "
   ]
  },
  {
   "cell_type": "code",
   "execution_count": 22,
   "id": "ff22633d",
   "metadata": {
    "ExecuteTime": {
     "end_time": "2022-01-13T11:07:07.603390Z",
     "start_time": "2022-01-13T11:07:07.576269Z"
    }
   },
   "outputs": [
    {
     "data": {
      "text/plain": [
       "is_original_content          0\n",
       "link_flair_css_class         4\n",
       "link_flair_text            365\n",
       "link_flair_template_id     369\n",
       "preview                    916\n",
       "post_hint                  916\n",
       "removed_by_category        984\n",
       "author_cakeday             997\n",
       "author_flair_css_class    1000\n",
       "author_flair_text         1000\n",
       "dtype: int64"
      ]
     },
     "execution_count": 22,
     "metadata": {},
     "output_type": "execute_result"
    }
   ],
   "source": [
    "# checking for null values if they exist in the columns of interest\n",
    "\n",
    "buildapc.isnull().sum().sort_values().tail(10)"
   ]
  },
  {
   "cell_type": "code",
   "execution_count": 23,
   "id": "a7e89056",
   "metadata": {
    "ExecuteTime": {
     "end_time": "2022-01-13T11:07:07.634505Z",
     "start_time": "2022-01-13T11:07:07.609381Z"
    }
   },
   "outputs": [
    {
     "data": {
      "text/plain": [
       "My screen became whitish all of a sudden.                                  3\n",
       "MY PC BUILD JOURNEY                                                        2\n",
       "Help                                                                       2\n",
       "Cpu                                                                        2\n",
       "custom pc                                                                  2\n",
       "Can you review my build?                                                   2\n",
       "CPU Upgrade                                                                2\n",
       "quick format                                                               2\n",
       "How to use gas sensors with Arduino - Arduino tutorial - MQ2 gas sensor    2\n",
       "2nd Build, gaming PC 1500€ budget. am I choosing right?                    1\n",
       "Name: title, dtype: int64"
      ]
     },
     "execution_count": 23,
     "metadata": {},
     "output_type": "execute_result"
    }
   ],
   "source": [
    "# check for duplicates in the title column\n",
    "\n",
    "buildapc['title'].value_counts(ascending = False).head(10)"
   ]
  },
  {
   "cell_type": "markdown",
   "id": "9f69536b",
   "metadata": {},
   "source": [
    "These rows are likely to be double post or repost hence we will be dropping these rows. "
   ]
  },
  {
   "cell_type": "code",
   "execution_count": 24,
   "id": "3f389f56",
   "metadata": {
    "ExecuteTime": {
     "end_time": "2022-01-13T11:07:07.664770Z",
     "start_time": "2022-01-13T11:07:07.638493Z"
    }
   },
   "outputs": [
    {
     "data": {
      "text/plain": [
       "                                                                                                                                                                                                                                                                                                                                                                                                                                                                                                                                                                                                                                                                                                                                                                                                                                                                                                                                                                                                                                                                                    29\n",
       "[removed]                                                                                                                                                                                                                                                                                                                                                                                                                                                                                                                                                                                                                                                                                                                                                                                                                                                                                                                                                                                                                                                                           16\n",
       "Hi guys, \\nat the moment I have a Hero Z690 but it feels cheap and for the pricetag I am not happy with the board and will return it this week. \\n\\nNow I have to choose which board I will use. Which board is better for oc‘ing the 12900k (SP97 Chip)?  The Extreme has more phases but the Formula has a better cooling.\\n\\nThe price for the Extreme is 1100 Euro and 700 for the Formula. So 400 Euros is a lot of money but ok for me if the board makes more sense. \\n\\nThe system is watercooled with 2 Moras. \\n\\nRest of the system:\\n12900K\\n3090 Kingpin 2.2 GHz daily \\n6400 MHz C32 watercooled 32GB DDR5 Sticks\\n1600W PSU.\\n\\nThank you guys :-)                                                                                                                                                                                                                                                                                                                                                                                                                    2\n",
       " \\n\\nHello,\\n\\nI build a new pc and i have a doubt.. Im gonna use 5600x and now idk if the stock cooler+stock thermal paste is good enough..\\n\\nIm gonna use the pc just for gaming and usual tasks.. not oc and other crazy stuff.\\n\\nWhat do u think?\\n\\nthx                                                                                                                                                                                                                                                                                                                                                                                                                                                                                                                                                                                                                                                                                                                                                                                                                       2\n",
       "Recently updated my PC including the motherboard mentioned in the title. Headset worked fine when I started out, but seemingly out of the blue the microphone has stopped working.\\n\\nIt is a razer headset with a 3.5mm jack splitter for the input and output. I know the microphone works because I have plugged it into my laptop where I don't need a splitter and it worked fine.\\n\\nI get no audio input from either the front jack or plugging into the motherboard. However, it does show that it is connected when viewing it in the Realtek Audio control application and the audio devices.\\n\\nI've uninstalled and reinstalled the Realtek audio drivers numerous times, going to newer versions and back to the ones that were recommended for the motherboard. No difference.\\n\\nI've set the microphone as the default input. I've gone in and changed the privacy settings for the microphone. Nothing helped.\\n\\nCould it be that my splitter has gone bad? I've had the headset for a little over a year and a half so I didn't think that would be the case.     1\n",
       "Name: selftext, dtype: int64"
      ]
     },
     "execution_count": 24,
     "metadata": {},
     "output_type": "execute_result"
    }
   ],
   "source": [
    "# check for duplicates in the selftext column\n",
    "\n",
    "buildapc['selftext'].value_counts(ascending = False).head(5)"
   ]
  },
  {
   "cell_type": "markdown",
   "id": "b607ef56",
   "metadata": {},
   "source": [
    "For the above rows, there are several duplicates that are observed in the `'selftext'` column. We will be checking the rows with the selftext being empty and having [removed] before deciding to remove these rows or not. "
   ]
  },
  {
   "cell_type": "code",
   "execution_count": 25,
   "id": "90bb849d",
   "metadata": {
    "ExecuteTime": {
     "end_time": "2022-01-13T11:07:07.693972Z",
     "start_time": "2022-01-13T11:07:07.667221Z"
    },
    "scrolled": false
   },
   "outputs": [
    {
     "data": {
      "text/html": [
       "<div>\n",
       "<style scoped>\n",
       "    .dataframe tbody tr th:only-of-type {\n",
       "        vertical-align: middle;\n",
       "    }\n",
       "\n",
       "    .dataframe tbody tr th {\n",
       "        vertical-align: top;\n",
       "    }\n",
       "\n",
       "    .dataframe thead th {\n",
       "        text-align: right;\n",
       "    }\n",
       "</style>\n",
       "<table border=\"1\" class=\"dataframe\">\n",
       "  <thead>\n",
       "    <tr style=\"text-align: right;\">\n",
       "      <th></th>\n",
       "      <th>title</th>\n",
       "      <th>selftext</th>\n",
       "    </tr>\n",
       "  </thead>\n",
       "  <tbody>\n",
       "    <tr>\n",
       "      <th>55</th>\n",
       "      <td>How am i supposed to know what pc parts are co...</td>\n",
       "      <td></td>\n",
       "    </tr>\n",
       "    <tr>\n",
       "      <th>95</th>\n",
       "      <td>I have a 256gb M.2 SSD and a 128gb SATA SSD. W...</td>\n",
       "      <td></td>\n",
       "    </tr>\n",
       "    <tr>\n",
       "      <th>99</th>\n",
       "      <td>Hi everyone, I’ve built a pc over a year ago b...</td>\n",
       "      <td></td>\n",
       "    </tr>\n",
       "    <tr>\n",
       "      <th>105</th>\n",
       "      <td>what 3060 ti to buy zotac GAMING twin edge oc ...</td>\n",
       "      <td></td>\n",
       "    </tr>\n",
       "    <tr>\n",
       "      <th>151</th>\n",
       "      <td>should I go with the Asus z690-p or the gigaby...</td>\n",
       "      <td></td>\n",
       "    </tr>\n",
       "    <tr>\n",
       "      <th>157</th>\n",
       "      <td>how do you install a mother board with a IO sh...</td>\n",
       "      <td></td>\n",
       "    </tr>\n",
       "    <tr>\n",
       "      <th>170</th>\n",
       "      <td>Would a Ryzen 3 5300g bottle neck a 1660 super?</td>\n",
       "      <td></td>\n",
       "    </tr>\n",
       "    <tr>\n",
       "      <th>185</th>\n",
       "      <td>need help or answer will be ok to swap a 3600 ...</td>\n",
       "      <td></td>\n",
       "    </tr>\n",
       "    <tr>\n",
       "      <th>233</th>\n",
       "      <td>Hi, Im building my first PC atm but i'm stuck ...</td>\n",
       "      <td></td>\n",
       "    </tr>\n",
       "    <tr>\n",
       "      <th>319</th>\n",
       "      <td>Is a rx 6600 for 520$ a good price</td>\n",
       "      <td></td>\n",
       "    </tr>\n",
       "    <tr>\n",
       "      <th>373</th>\n",
       "      <td>I took my noctua fan with steel clips off and ...</td>\n",
       "      <td></td>\n",
       "    </tr>\n",
       "    <tr>\n",
       "      <th>432</th>\n",
       "      <td>bought a 6600 xt for $560, did I overpay?</td>\n",
       "      <td></td>\n",
       "    </tr>\n",
       "    <tr>\n",
       "      <th>481</th>\n",
       "      <td>I'm trying to boot up my PC after a few months...</td>\n",
       "      <td></td>\n",
       "    </tr>\n",
       "    <tr>\n",
       "      <th>502</th>\n",
       "      <td>Is it okay if I take my 1TB HDD drive from my ...</td>\n",
       "      <td></td>\n",
       "    </tr>\n",
       "    <tr>\n",
       "      <th>548</th>\n",
       "      <td>hi i just bought a new monitor (benq mobiuz ex...</td>\n",
       "      <td></td>\n",
       "    </tr>\n",
       "    <tr>\n",
       "      <th>558</th>\n",
       "      <td>Arctic freezer i35 suitable for 12600k (mainly...</td>\n",
       "      <td></td>\n",
       "    </tr>\n",
       "    <tr>\n",
       "      <th>570</th>\n",
       "      <td>3pin FRGB into 4pin slot?</td>\n",
       "      <td></td>\n",
       "    </tr>\n",
       "    <tr>\n",
       "      <th>578</th>\n",
       "      <td>Help me</td>\n",
       "      <td></td>\n",
       "    </tr>\n",
       "    <tr>\n",
       "      <th>605</th>\n",
       "      <td>So basically I installed a new hhd on my pc an...</td>\n",
       "      <td></td>\n",
       "    </tr>\n",
       "    <tr>\n",
       "      <th>610</th>\n",
       "      <td>How long will a 12600K be good for gaming with...</td>\n",
       "      <td></td>\n",
       "    </tr>\n",
       "    <tr>\n",
       "      <th>649</th>\n",
       "      <td>can i use xpg d60 16gb (8x2) 3600mhz of ram wi...</td>\n",
       "      <td></td>\n",
       "    </tr>\n",
       "    <tr>\n",
       "      <th>841</th>\n",
       "      <td>Have an AMD FK-6300 thats on its way out after...</td>\n",
       "      <td></td>\n",
       "    </tr>\n",
       "    <tr>\n",
       "      <th>855</th>\n",
       "      <td>hey what's the best bang for buck, (Hopefully ...</td>\n",
       "      <td></td>\n",
       "    </tr>\n",
       "    <tr>\n",
       "      <th>882</th>\n",
       "      <td>Go into settings to change refresh rate, will ...</td>\n",
       "      <td></td>\n",
       "    </tr>\n",
       "    <tr>\n",
       "      <th>899</th>\n",
       "      <td>Is ARCTIC Liquid Freezer II 280 good enough fo...</td>\n",
       "      <td></td>\n",
       "    </tr>\n",
       "    <tr>\n",
       "      <th>901</th>\n",
       "      <td>Hey guys! I have a 500W 80+ Bronze PSU and a R...</td>\n",
       "      <td></td>\n",
       "    </tr>\n",
       "    <tr>\n",
       "      <th>903</th>\n",
       "      <td>Zalman z7 Neo, rgb controller, The cable says ...</td>\n",
       "      <td></td>\n",
       "    </tr>\n",
       "    <tr>\n",
       "      <th>976</th>\n",
       "      <td>If i already have a graphics card intergrated ...</td>\n",
       "      <td></td>\n",
       "    </tr>\n",
       "    <tr>\n",
       "      <th>995</th>\n",
       "      <td>is it only the 3060 that has an ethereum lock?</td>\n",
       "      <td></td>\n",
       "    </tr>\n",
       "  </tbody>\n",
       "</table>\n",
       "</div>"
      ],
      "text/plain": [
       "                                                 title selftext\n",
       "55   How am i supposed to know what pc parts are co...         \n",
       "95   I have a 256gb M.2 SSD and a 128gb SATA SSD. W...         \n",
       "99   Hi everyone, I’ve built a pc over a year ago b...         \n",
       "105  what 3060 ti to buy zotac GAMING twin edge oc ...         \n",
       "151  should I go with the Asus z690-p or the gigaby...         \n",
       "157  how do you install a mother board with a IO sh...         \n",
       "170    Would a Ryzen 3 5300g bottle neck a 1660 super?         \n",
       "185  need help or answer will be ok to swap a 3600 ...         \n",
       "233  Hi, Im building my first PC atm but i'm stuck ...         \n",
       "319                 Is a rx 6600 for 520$ a good price         \n",
       "373  I took my noctua fan with steel clips off and ...         \n",
       "432          bought a 6600 xt for $560, did I overpay?         \n",
       "481  I'm trying to boot up my PC after a few months...         \n",
       "502  Is it okay if I take my 1TB HDD drive from my ...         \n",
       "548  hi i just bought a new monitor (benq mobiuz ex...         \n",
       "558  Arctic freezer i35 suitable for 12600k (mainly...         \n",
       "570                          3pin FRGB into 4pin slot?         \n",
       "578                                            Help me         \n",
       "605  So basically I installed a new hhd on my pc an...         \n",
       "610  How long will a 12600K be good for gaming with...         \n",
       "649  can i use xpg d60 16gb (8x2) 3600mhz of ram wi...         \n",
       "841  Have an AMD FK-6300 thats on its way out after...         \n",
       "855  hey what's the best bang for buck, (Hopefully ...         \n",
       "882  Go into settings to change refresh rate, will ...         \n",
       "899  Is ARCTIC Liquid Freezer II 280 good enough fo...         \n",
       "901  Hey guys! I have a 500W 80+ Bronze PSU and a R...         \n",
       "903  Zalman z7 Neo, rgb controller, The cable says ...         \n",
       "976  If i already have a graphics card intergrated ...         \n",
       "995     is it only the 3060 that has an ethereum lock?         "
      ]
     },
     "execution_count": 25,
     "metadata": {},
     "output_type": "execute_result"
    }
   ],
   "source": [
    "# check the rows with empty value in the selftext column\n",
    "\n",
    "buildapc.loc[(buildapc['selftext'].isin([''])), ['title', 'selftext']]"
   ]
  },
  {
   "cell_type": "code",
   "execution_count": 26,
   "id": "96d176e9",
   "metadata": {
    "ExecuteTime": {
     "end_time": "2022-01-13T11:08:22.509349Z",
     "start_time": "2022-01-13T11:08:22.490940Z"
    }
   },
   "outputs": [],
   "source": [
    "# slice out the rows with empty field in selftext column so that these rows would not be dropped during drop duplicates\n",
    "empty = buildapc.loc[(buildapc['selftext'].isin(['']))]"
   ]
  },
  {
   "cell_type": "markdown",
   "id": "da29f2ea",
   "metadata": {},
   "source": [
    "As it can be seen, these rows have a valid title text just that the original poster did not include any text within the 'selftext' field. Hence, we shall remain with these rows and not drop them."
   ]
  },
  {
   "cell_type": "code",
   "execution_count": 27,
   "id": "31aea610",
   "metadata": {
    "ExecuteTime": {
     "end_time": "2022-01-13T11:08:26.956624Z",
     "start_time": "2022-01-13T11:08:26.935410Z"
    },
    "scrolled": false
   },
   "outputs": [
    {
     "data": {
      "text/html": [
       "<div>\n",
       "<style scoped>\n",
       "    .dataframe tbody tr th:only-of-type {\n",
       "        vertical-align: middle;\n",
       "    }\n",
       "\n",
       "    .dataframe tbody tr th {\n",
       "        vertical-align: top;\n",
       "    }\n",
       "\n",
       "    .dataframe thead th {\n",
       "        text-align: right;\n",
       "    }\n",
       "</style>\n",
       "<table border=\"1\" class=\"dataframe\">\n",
       "  <thead>\n",
       "    <tr style=\"text-align: right;\">\n",
       "      <th></th>\n",
       "      <th>title</th>\n",
       "      <th>selftext</th>\n",
       "    </tr>\n",
       "  </thead>\n",
       "  <tbody>\n",
       "    <tr>\n",
       "      <th>61</th>\n",
       "      <td>How to use gas sensors with Arduino - Arduino ...</td>\n",
       "      <td>[removed]</td>\n",
       "    </tr>\n",
       "    <tr>\n",
       "      <th>73</th>\n",
       "      <td>How to use gas sensors with Arduino - Arduino ...</td>\n",
       "      <td>[removed]</td>\n",
       "    </tr>\n",
       "    <tr>\n",
       "      <th>271</th>\n",
       "      <td>Intel Xeon E3-1270 can work with a H61MLB?</td>\n",
       "      <td>[removed]</td>\n",
       "    </tr>\n",
       "    <tr>\n",
       "      <th>358</th>\n",
       "      <td>verizon📞 customer service.📞1866.517.1058📞. pho...</td>\n",
       "      <td>[removed]</td>\n",
       "    </tr>\n",
       "    <tr>\n",
       "      <th>360</th>\n",
       "      <td>💻verizon. customer service💻.1866.517.1058.💻 ph...</td>\n",
       "      <td>[removed]</td>\n",
       "    </tr>\n",
       "    <tr>\n",
       "      <th>361</th>\n",
       "      <td>verizon customer+1866.517.1058 service phone n...</td>\n",
       "      <td>[removed]</td>\n",
       "    </tr>\n",
       "    <tr>\n",
       "      <th>364</th>\n",
       "      <td>\"verizon wireless (866]-5[171058]customer serv...</td>\n",
       "      <td>[removed]</td>\n",
       "    </tr>\n",
       "    <tr>\n",
       "      <th>367</th>\n",
       "      <td>🗞🗞verizon wireless (866]-5[17🗞1058]🗞customer s...</td>\n",
       "      <td>[removed]</td>\n",
       "    </tr>\n",
       "    <tr>\n",
       "      <th>369</th>\n",
       "      <td>verizon wireless (866]-5[17-1058]customer serv...</td>\n",
       "      <td>[removed]</td>\n",
       "    </tr>\n",
       "    <tr>\n",
       "      <th>571</th>\n",
       "      <td>Need help building a ₹50000 pc.</td>\n",
       "      <td>[removed]</td>\n",
       "    </tr>\n",
       "    <tr>\n",
       "      <th>624</th>\n",
       "      <td>Fashionable Winter Coats For Women 2022</td>\n",
       "      <td>[removed]</td>\n",
       "    </tr>\n",
       "    <tr>\n",
       "      <th>725</th>\n",
       "      <td>Nevadarling on OF, best D.Va cosplay to date.</td>\n",
       "      <td>[removed]</td>\n",
       "    </tr>\n",
       "    <tr>\n",
       "      <th>730</th>\n",
       "      <td>My screen became whitish all of a sudden.</td>\n",
       "      <td>[removed]</td>\n",
       "    </tr>\n",
       "    <tr>\n",
       "      <th>772</th>\n",
       "      <td>FIRST ever build (3k budget). Looking for affi...</td>\n",
       "      <td>[removed]</td>\n",
       "    </tr>\n",
       "    <tr>\n",
       "      <th>789</th>\n",
       "      <td>How to escape youareanidiot.cc</td>\n",
       "      <td>[removed]</td>\n",
       "    </tr>\n",
       "    <tr>\n",
       "      <th>945</th>\n",
       "      <td>Will this be enough to record and edit on vide...</td>\n",
       "      <td>[removed]</td>\n",
       "    </tr>\n",
       "  </tbody>\n",
       "</table>\n",
       "</div>"
      ],
      "text/plain": [
       "                                                 title   selftext\n",
       "61   How to use gas sensors with Arduino - Arduino ...  [removed]\n",
       "73   How to use gas sensors with Arduino - Arduino ...  [removed]\n",
       "271         Intel Xeon E3-1270 can work with a H61MLB?  [removed]\n",
       "358  verizon📞 customer service.📞1866.517.1058📞. pho...  [removed]\n",
       "360  💻verizon. customer service💻.1866.517.1058.💻 ph...  [removed]\n",
       "361  verizon customer+1866.517.1058 service phone n...  [removed]\n",
       "364  \"verizon wireless (866]-5[171058]customer serv...  [removed]\n",
       "367  🗞🗞verizon wireless (866]-5[17🗞1058]🗞customer s...  [removed]\n",
       "369  verizon wireless (866]-5[17-1058]customer serv...  [removed]\n",
       "571                    Need help building a ₹50000 pc.  [removed]\n",
       "624            Fashionable Winter Coats For Women 2022  [removed]\n",
       "725      Nevadarling on OF, best D.Va cosplay to date.  [removed]\n",
       "730          My screen became whitish all of a sudden.  [removed]\n",
       "772  FIRST ever build (3k budget). Looking for affi...  [removed]\n",
       "789                     How to escape youareanidiot.cc  [removed]\n",
       "945  Will this be enough to record and edit on vide...  [removed]"
      ]
     },
     "execution_count": 27,
     "metadata": {},
     "output_type": "execute_result"
    }
   ],
   "source": [
    "# check the rows with [removed] value in the selftext column\n",
    "\n",
    "buildapc.loc[(buildapc['selftext'].isin(['[removed]'])), ['title', 'selftext']]"
   ]
  },
  {
   "cell_type": "markdown",
   "id": "17e2fa5b",
   "metadata": {},
   "source": [
    "As it can be seen, these rows with [removed] in the selftext have a irrelevant title which are mainly spam or topics that are irrelevant to the r/buildapc subreddit that have been removed by the moderator. Hence, we shall we dropping these rows accordingly. "
   ]
  },
  {
   "cell_type": "code",
   "execution_count": 28,
   "id": "f1ecbf05",
   "metadata": {
    "ExecuteTime": {
     "end_time": "2022-01-13T11:08:31.042069Z",
     "start_time": "2022-01-13T11:08:31.027861Z"
    }
   },
   "outputs": [],
   "source": [
    "# dropping duplicated rows in 'title' column\n",
    "buildapc.drop_duplicates(subset = ['title'], inplace =  True)"
   ]
  },
  {
   "cell_type": "code",
   "execution_count": 29,
   "id": "020ebabe",
   "metadata": {
    "ExecuteTime": {
     "end_time": "2022-01-13T11:08:34.899179Z",
     "start_time": "2022-01-13T11:08:34.874457Z"
    }
   },
   "outputs": [],
   "source": [
    "# dropping dupliated rows in 'selftext' column\n",
    "buildapc.drop_duplicates(subset = ['selftext'], inplace =  True)"
   ]
  },
  {
   "cell_type": "code",
   "execution_count": 30,
   "id": "26553cb1",
   "metadata": {
    "ExecuteTime": {
     "end_time": "2022-01-13T11:08:37.389563Z",
     "start_time": "2022-01-13T11:08:37.372569Z"
    }
   },
   "outputs": [
    {
     "data": {
      "text/plain": [
       "(947, 67)"
      ]
     },
     "execution_count": 30,
     "metadata": {},
     "output_type": "execute_result"
    }
   ],
   "source": [
    "buildapc.shape"
   ]
  },
  {
   "cell_type": "code",
   "execution_count": 31,
   "id": "d0ab6f0a",
   "metadata": {
    "ExecuteTime": {
     "end_time": "2022-01-13T11:08:40.021695Z",
     "start_time": "2022-01-13T11:08:40.005243Z"
    }
   },
   "outputs": [
    {
     "data": {
      "text/plain": [
       "(976, 67)"
      ]
     },
     "execution_count": 31,
     "metadata": {},
     "output_type": "execute_result"
    }
   ],
   "source": [
    "# concatenate dataframe with the rows that have an empty string in 'selftext column'\n",
    "buildapc = pd.concat([buildapc, empty])\n",
    "buildapc.shape"
   ]
  },
  {
   "cell_type": "code",
   "execution_count": 35,
   "id": "52c3cdd9",
   "metadata": {
    "ExecuteTime": {
     "end_time": "2022-01-13T11:09:34.701253Z",
     "start_time": "2022-01-13T11:09:34.680724Z"
    }
   },
   "outputs": [
    {
     "data": {
      "text/html": [
       "<div>\n",
       "<style scoped>\n",
       "    .dataframe tbody tr th:only-of-type {\n",
       "        vertical-align: middle;\n",
       "    }\n",
       "\n",
       "    .dataframe tbody tr th {\n",
       "        vertical-align: top;\n",
       "    }\n",
       "\n",
       "    .dataframe thead th {\n",
       "        text-align: right;\n",
       "    }\n",
       "</style>\n",
       "<table border=\"1\" class=\"dataframe\">\n",
       "  <thead>\n",
       "    <tr style=\"text-align: right;\">\n",
       "      <th></th>\n",
       "      <th>subreddit</th>\n",
       "      <th>title</th>\n",
       "      <th>selftext</th>\n",
       "    </tr>\n",
       "  </thead>\n",
       "  <tbody>\n",
       "    <tr>\n",
       "      <th>0</th>\n",
       "      <td>buildapc</td>\n",
       "      <td>3080 or 6900xt?</td>\n",
       "      <td>So I'm gonna be building a gaming PC for 4k ga...</td>\n",
       "    </tr>\n",
       "    <tr>\n",
       "      <th>1</th>\n",
       "      <td>buildapc</td>\n",
       "      <td>Upgrading to a 1440p144Hz setup, would like so...</td>\n",
       "      <td>**What is your intended use for this build? Th...</td>\n",
       "    </tr>\n",
       "    <tr>\n",
       "      <th>2</th>\n",
       "      <td>buildapc</td>\n",
       "      <td>Help fine tune my build before it's final.</td>\n",
       "      <td>My 2500k/980 build is on it's knees and about ...</td>\n",
       "    </tr>\n",
       "    <tr>\n",
       "      <th>3</th>\n",
       "      <td>buildapc</td>\n",
       "      <td>Need help picking out a KVM or other solution ...</td>\n",
       "      <td>As the tittle says, im looking for a KVM switc...</td>\n",
       "    </tr>\n",
       "    <tr>\n",
       "      <th>4</th>\n",
       "      <td>buildapc</td>\n",
       "      <td>Ryzen 5 3600 + GT 710 or Ryzen 3 3200G</td>\n",
       "      <td>Hello! So unfortunately my old GPU died last w...</td>\n",
       "    </tr>\n",
       "  </tbody>\n",
       "</table>\n",
       "</div>"
      ],
      "text/plain": [
       "  subreddit                                              title  \\\n",
       "0  buildapc                                    3080 or 6900xt?   \n",
       "1  buildapc  Upgrading to a 1440p144Hz setup, would like so...   \n",
       "2  buildapc         Help fine tune my build before it's final.   \n",
       "3  buildapc  Need help picking out a KVM or other solution ...   \n",
       "4  buildapc             Ryzen 5 3600 + GT 710 or Ryzen 3 3200G   \n",
       "\n",
       "                                            selftext  \n",
       "0  So I'm gonna be building a gaming PC for 4k ga...  \n",
       "1  **What is your intended use for this build? Th...  \n",
       "2  My 2500k/980 build is on it's knees and about ...  \n",
       "3  As the tittle says, im looking for a KVM switc...  \n",
       "4  Hello! So unfortunately my old GPU died last w...  "
      ]
     },
     "execution_count": 35,
     "metadata": {},
     "output_type": "execute_result"
    }
   ],
   "source": [
    "# creating a final dataframe with only 'subreddit'\n",
    "\n",
    "buildapc = buildapc[['subreddit', 'title', 'selftext']]\n",
    "buildapc.head()"
   ]
  },
  {
   "cell_type": "code",
   "execution_count": 36,
   "id": "bb1e4961",
   "metadata": {
    "ExecuteTime": {
     "end_time": "2022-01-13T11:09:48.801110Z",
     "start_time": "2022-01-13T11:09:48.795054Z"
    }
   },
   "outputs": [
    {
     "data": {
      "text/plain": [
       "(976, 3)"
      ]
     },
     "execution_count": 36,
     "metadata": {},
     "output_type": "execute_result"
    }
   ],
   "source": [
    "buildapc.shape"
   ]
  },
  {
   "cell_type": "markdown",
   "id": "79c92e67",
   "metadata": {},
   "source": [
    "### For r/techsupport subreddit"
   ]
  },
  {
   "cell_type": "code",
   "execution_count": 37,
   "id": "bce4e43e",
   "metadata": {
    "ExecuteTime": {
     "end_time": "2022-01-13T11:10:03.419469Z",
     "start_time": "2022-01-13T11:10:03.404225Z"
    }
   },
   "outputs": [
    {
     "data": {
      "text/plain": [
       "(1000, 66)"
      ]
     },
     "execution_count": 37,
     "metadata": {},
     "output_type": "execute_result"
    }
   ],
   "source": [
    "# check the shape of the final dataframe to ensure there are 1000 entries\n",
    "techsupport.shape"
   ]
  },
  {
   "cell_type": "code",
   "execution_count": 38,
   "id": "d608cc88",
   "metadata": {
    "ExecuteTime": {
     "end_time": "2022-01-13T11:10:07.194291Z",
     "start_time": "2022-01-13T11:10:07.159380Z"
    }
   },
   "outputs": [
    {
     "data": {
      "text/html": [
       "<div>\n",
       "<style scoped>\n",
       "    .dataframe tbody tr th:only-of-type {\n",
       "        vertical-align: middle;\n",
       "    }\n",
       "\n",
       "    .dataframe tbody tr th {\n",
       "        vertical-align: top;\n",
       "    }\n",
       "\n",
       "    .dataframe thead th {\n",
       "        text-align: right;\n",
       "    }\n",
       "</style>\n",
       "<table border=\"1\" class=\"dataframe\">\n",
       "  <thead>\n",
       "    <tr style=\"text-align: right;\">\n",
       "      <th></th>\n",
       "      <th>all_awardings</th>\n",
       "      <th>allow_live_comments</th>\n",
       "      <th>author</th>\n",
       "      <th>author_flair_css_class</th>\n",
       "      <th>author_flair_richtext</th>\n",
       "      <th>author_flair_text</th>\n",
       "      <th>author_flair_type</th>\n",
       "      <th>author_fullname</th>\n",
       "      <th>author_is_blocked</th>\n",
       "      <th>author_patreon_flair</th>\n",
       "      <th>...</th>\n",
       "      <th>total_awards_received</th>\n",
       "      <th>treatment_tags</th>\n",
       "      <th>upvote_ratio</th>\n",
       "      <th>url</th>\n",
       "      <th>whitelist_status</th>\n",
       "      <th>wls</th>\n",
       "      <th>removed_by_category</th>\n",
       "      <th>post_hint</th>\n",
       "      <th>preview</th>\n",
       "      <th>author_cakeday</th>\n",
       "    </tr>\n",
       "  </thead>\n",
       "  <tbody>\n",
       "    <tr>\n",
       "      <th>0</th>\n",
       "      <td>[]</td>\n",
       "      <td>False</td>\n",
       "      <td>Ok_Professional_9434</td>\n",
       "      <td>None</td>\n",
       "      <td>[]</td>\n",
       "      <td>None</td>\n",
       "      <td>text</td>\n",
       "      <td>t2_h1bb1pjk</td>\n",
       "      <td>False</td>\n",
       "      <td>False</td>\n",
       "      <td>...</td>\n",
       "      <td>0</td>\n",
       "      <td>[]</td>\n",
       "      <td>1.0</td>\n",
       "      <td>https://www.reddit.com/r/techsupport/comments/...</td>\n",
       "      <td>all_ads</td>\n",
       "      <td>6</td>\n",
       "      <td>NaN</td>\n",
       "      <td>NaN</td>\n",
       "      <td>NaN</td>\n",
       "      <td>NaN</td>\n",
       "    </tr>\n",
       "    <tr>\n",
       "      <th>1</th>\n",
       "      <td>[]</td>\n",
       "      <td>False</td>\n",
       "      <td>ravenderealistic</td>\n",
       "      <td>None</td>\n",
       "      <td>[]</td>\n",
       "      <td>None</td>\n",
       "      <td>text</td>\n",
       "      <td>t2_5p686rrb</td>\n",
       "      <td>False</td>\n",
       "      <td>False</td>\n",
       "      <td>...</td>\n",
       "      <td>0</td>\n",
       "      <td>[]</td>\n",
       "      <td>1.0</td>\n",
       "      <td>https://www.reddit.com/r/techsupport/comments/...</td>\n",
       "      <td>all_ads</td>\n",
       "      <td>6</td>\n",
       "      <td>NaN</td>\n",
       "      <td>NaN</td>\n",
       "      <td>NaN</td>\n",
       "      <td>NaN</td>\n",
       "    </tr>\n",
       "    <tr>\n",
       "      <th>2</th>\n",
       "      <td>[]</td>\n",
       "      <td>False</td>\n",
       "      <td>1eeveefan</td>\n",
       "      <td>None</td>\n",
       "      <td>[]</td>\n",
       "      <td>None</td>\n",
       "      <td>text</td>\n",
       "      <td>t2_b5f3zxlu</td>\n",
       "      <td>False</td>\n",
       "      <td>False</td>\n",
       "      <td>...</td>\n",
       "      <td>0</td>\n",
       "      <td>[]</td>\n",
       "      <td>1.0</td>\n",
       "      <td>https://www.reddit.com/r/techsupport/comments/...</td>\n",
       "      <td>all_ads</td>\n",
       "      <td>6</td>\n",
       "      <td>NaN</td>\n",
       "      <td>NaN</td>\n",
       "      <td>NaN</td>\n",
       "      <td>NaN</td>\n",
       "    </tr>\n",
       "    <tr>\n",
       "      <th>3</th>\n",
       "      <td>[]</td>\n",
       "      <td>False</td>\n",
       "      <td>Po_gU</td>\n",
       "      <td>None</td>\n",
       "      <td>[]</td>\n",
       "      <td>None</td>\n",
       "      <td>text</td>\n",
       "      <td>t2_6cczit51</td>\n",
       "      <td>False</td>\n",
       "      <td>False</td>\n",
       "      <td>...</td>\n",
       "      <td>0</td>\n",
       "      <td>[]</td>\n",
       "      <td>1.0</td>\n",
       "      <td>https://www.reddit.com/r/techsupport/comments/...</td>\n",
       "      <td>all_ads</td>\n",
       "      <td>6</td>\n",
       "      <td>NaN</td>\n",
       "      <td>NaN</td>\n",
       "      <td>NaN</td>\n",
       "      <td>NaN</td>\n",
       "    </tr>\n",
       "    <tr>\n",
       "      <th>4</th>\n",
       "      <td>[]</td>\n",
       "      <td>False</td>\n",
       "      <td>user-0100</td>\n",
       "      <td>None</td>\n",
       "      <td>[]</td>\n",
       "      <td>None</td>\n",
       "      <td>text</td>\n",
       "      <td>t2_f99ol851</td>\n",
       "      <td>False</td>\n",
       "      <td>False</td>\n",
       "      <td>...</td>\n",
       "      <td>0</td>\n",
       "      <td>[]</td>\n",
       "      <td>1.0</td>\n",
       "      <td>https://www.reddit.com/r/techsupport/comments/...</td>\n",
       "      <td>all_ads</td>\n",
       "      <td>6</td>\n",
       "      <td>NaN</td>\n",
       "      <td>NaN</td>\n",
       "      <td>NaN</td>\n",
       "      <td>NaN</td>\n",
       "    </tr>\n",
       "  </tbody>\n",
       "</table>\n",
       "<p>5 rows × 66 columns</p>\n",
       "</div>"
      ],
      "text/plain": [
       "  all_awardings  allow_live_comments                author  \\\n",
       "0            []                False  Ok_Professional_9434   \n",
       "1            []                False      ravenderealistic   \n",
       "2            []                False             1eeveefan   \n",
       "3            []                False                 Po_gU   \n",
       "4            []                False             user-0100   \n",
       "\n",
       "  author_flair_css_class author_flair_richtext author_flair_text  \\\n",
       "0                   None                    []              None   \n",
       "1                   None                    []              None   \n",
       "2                   None                    []              None   \n",
       "3                   None                    []              None   \n",
       "4                   None                    []              None   \n",
       "\n",
       "  author_flair_type author_fullname  author_is_blocked  author_patreon_flair  \\\n",
       "0              text     t2_h1bb1pjk              False                 False   \n",
       "1              text     t2_5p686rrb              False                 False   \n",
       "2              text     t2_b5f3zxlu              False                 False   \n",
       "3              text     t2_6cczit51              False                 False   \n",
       "4              text     t2_f99ol851              False                 False   \n",
       "\n",
       "   ...  total_awards_received treatment_tags  upvote_ratio  \\\n",
       "0  ...                      0             []           1.0   \n",
       "1  ...                      0             []           1.0   \n",
       "2  ...                      0             []           1.0   \n",
       "3  ...                      0             []           1.0   \n",
       "4  ...                      0             []           1.0   \n",
       "\n",
       "                                                 url  whitelist_status wls  \\\n",
       "0  https://www.reddit.com/r/techsupport/comments/...           all_ads   6   \n",
       "1  https://www.reddit.com/r/techsupport/comments/...           all_ads   6   \n",
       "2  https://www.reddit.com/r/techsupport/comments/...           all_ads   6   \n",
       "3  https://www.reddit.com/r/techsupport/comments/...           all_ads   6   \n",
       "4  https://www.reddit.com/r/techsupport/comments/...           all_ads   6   \n",
       "\n",
       "  removed_by_category post_hint preview  author_cakeday  \n",
       "0                 NaN       NaN     NaN             NaN  \n",
       "1                 NaN       NaN     NaN             NaN  \n",
       "2                 NaN       NaN     NaN             NaN  \n",
       "3                 NaN       NaN     NaN             NaN  \n",
       "4                 NaN       NaN     NaN             NaN  \n",
       "\n",
       "[5 rows x 66 columns]"
      ]
     },
     "execution_count": 38,
     "metadata": {},
     "output_type": "execute_result"
    }
   ],
   "source": [
    "techsupport.head()"
   ]
  },
  {
   "cell_type": "code",
   "execution_count": 39,
   "id": "abc8a4d2",
   "metadata": {
    "ExecuteTime": {
     "end_time": "2022-01-13T11:10:08.802192Z",
     "start_time": "2022-01-13T11:10:08.785669Z"
    }
   },
   "outputs": [
    {
     "data": {
      "text/plain": [
       "Index(['all_awardings', 'allow_live_comments', 'author',\n",
       "       'author_flair_css_class', 'author_flair_richtext', 'author_flair_text',\n",
       "       'author_flair_type', 'author_fullname', 'author_is_blocked',\n",
       "       'author_patreon_flair', 'author_premium', 'awarders', 'can_mod_post',\n",
       "       'contest_mode', 'created_utc', 'domain', 'full_link', 'gildings', 'id',\n",
       "       'is_created_from_ads_ui', 'is_crosspostable', 'is_meta',\n",
       "       'is_original_content', 'is_reddit_media_domain', 'is_robot_indexable',\n",
       "       'is_self', 'is_video', 'link_flair_background_color',\n",
       "       'link_flair_css_class', 'link_flair_richtext', 'link_flair_template_id',\n",
       "       'link_flair_text', 'link_flair_text_color', 'link_flair_type', 'locked',\n",
       "       'media_only', 'no_follow', 'num_comments', 'num_crossposts', 'over_18',\n",
       "       'parent_whitelist_status', 'permalink', 'pinned', 'pwls',\n",
       "       'retrieved_on', 'score', 'selftext', 'send_replies', 'spoiler',\n",
       "       'stickied', 'subreddit', 'subreddit_id', 'subreddit_subscribers',\n",
       "       'subreddit_type', 'thumbnail', 'title', 'total_awards_received',\n",
       "       'treatment_tags', 'upvote_ratio', 'url', 'whitelist_status', 'wls',\n",
       "       'removed_by_category', 'post_hint', 'preview', 'author_cakeday'],\n",
       "      dtype='object')"
      ]
     },
     "execution_count": 39,
     "metadata": {},
     "output_type": "execute_result"
    }
   ],
   "source": [
    "# get the columns names of the dataframe\n",
    "techsupport.columns"
   ]
  },
  {
   "cell_type": "markdown",
   "id": "a6ef15d7",
   "metadata": {},
   "source": [
    "The columns that we are interested in to build the classification model would be `'subreddit'`, `'title'` and `'selftext'`. We will be checking for null values and duplicates in these columns before exporting the data to a csv file.  "
   ]
  },
  {
   "cell_type": "code",
   "execution_count": 40,
   "id": "d24b8ac6",
   "metadata": {
    "ExecuteTime": {
     "end_time": "2022-01-13T11:10:12.407255Z",
     "start_time": "2022-01-13T11:10:12.382989Z"
    }
   },
   "outputs": [
    {
     "data": {
      "text/plain": [
       "link_flair_css_class         0\n",
       "link_flair_richtext          0\n",
       "gildings                     0\n",
       "author                       0\n",
       "post_hint                  911\n",
       "preview                    911\n",
       "removed_by_category        936\n",
       "author_cakeday             997\n",
       "author_flair_text         1000\n",
       "author_flair_css_class    1000\n",
       "dtype: int64"
      ]
     },
     "execution_count": 40,
     "metadata": {},
     "output_type": "execute_result"
    }
   ],
   "source": [
    "# checking for null values if they exist in the columns of interest\n",
    "\n",
    "techsupport.isnull().sum().sort_values().tail(10)"
   ]
  },
  {
   "cell_type": "code",
   "execution_count": 41,
   "id": "ccd00a03",
   "metadata": {
    "ExecuteTime": {
     "end_time": "2022-01-13T11:10:16.688777Z",
     "start_time": "2022-01-13T11:10:16.671285Z"
    }
   },
   "outputs": [
    {
     "data": {
      "text/plain": [
       "GPU not recognized                                                                                                                                                            3\n",
       "Pc on but not displaying                                                                                                                                                      2\n",
       "Help                                                                                                                                                                          2\n",
       "Tried erasing/reinstalling a clean OS for my iMac 2012 27\", might have bricked it?                                                                                            2\n",
       "I was playing sims 4 and tabbed out to look for cc and when I clicked a link it took me to some weird Asian nsfw site I clicked out pretty fast so I should be fine right?    2\n",
       "How do I install windows from the bios                                                                                                                                        1\n",
       "Windows 10 TB Not Loading/Freezing                                                                                                                                            1\n",
       "Connecting a laptop to 2 monitors                                                                                                                                             1\n",
       "Chrome making pc restart?                                                                                                                                                     1\n",
       "Windows 10 Enterprise 21H1 - PAGE_FAULT_IN_NONPAGED_AREA                                                                                                                      1\n",
       "Name: title, dtype: int64"
      ]
     },
     "execution_count": 41,
     "metadata": {},
     "output_type": "execute_result"
    }
   ],
   "source": [
    "# check for duplicates in the title column\n",
    "\n",
    "techsupport['title'].value_counts(ascending = False).head(10)"
   ]
  },
  {
   "cell_type": "markdown",
   "id": "598e9808",
   "metadata": {},
   "source": [
    "These rows are likely to be double post or repost hence we will be dropping these rows. "
   ]
  },
  {
   "cell_type": "code",
   "execution_count": 42,
   "id": "f929a18b",
   "metadata": {
    "ExecuteTime": {
     "end_time": "2022-01-13T11:10:21.064794Z",
     "start_time": "2022-01-13T11:10:21.044359Z"
    }
   },
   "outputs": [
    {
     "data": {
      "text/plain": [
       "[removed]                                                                                                                                                                                                                                                                                                                                                                                                     64\n",
       "i can hear my pc that my fans are on i can olse see the rgb inside of the pc keyboard rgb also on but no display and when i press caps on my keyboard it does not show that i turned it on so i think thats also not working if you can help i would really appreciate it\\n\\n(i am not good with pc stuff so try and make it as easy as possible)                                                              2\n",
       "My computer is making a shutdown sound while it is in use. This happens periodically, but nothing happens; the system continues to operate normally; temperatures remain stable and within acceptable limits. Should I be concerned? If yes, what should be done?                                                                                                                                              2\n",
       "My laptop sounds like there was either a big chunk of dirt or a hive of angry bees, i’ve been to a repair store or whatever is it called, waited a few days, they did something, it worked well for a few days then again, it started sounding like there was either big chunk of dirt or a hove of angry bees inside of it                                                                                    1\n",
       " \\n\\n# here are some files and they are in a strange format how do i open them and view them in proper format?\\n\\n#  [webwork-open-problem-library/vector\\_operations\\_2\\_dim.pg at master · openwebwork/webwork-open-problem-library · GitHub](https://github.com/openwebwork/webwork-open-problem-library/blob/master/Contrib/MountAllison/1-1_Vectors_and_Vector_Operations/vector_operations_2_dim.pg)     1\n",
       "Name: selftext, dtype: int64"
      ]
     },
     "execution_count": 42,
     "metadata": {},
     "output_type": "execute_result"
    }
   ],
   "source": [
    "# check for duplicates in the selftext column\n",
    "\n",
    "techsupport['selftext'].value_counts(ascending = False).head(5)"
   ]
  },
  {
   "cell_type": "markdown",
   "id": "6c4d9ae8",
   "metadata": {},
   "source": [
    "For the above rows, there are several duplicates that are observed in the `'selftext'` column. We will be checking the rows with the selftext being empty and having [removed] before deciding to remove these rows or not. "
   ]
  },
  {
   "cell_type": "code",
   "execution_count": 44,
   "id": "d60482f3",
   "metadata": {
    "ExecuteTime": {
     "end_time": "2022-01-13T11:10:37.438127Z",
     "start_time": "2022-01-13T11:10:37.417161Z"
    },
    "scrolled": false
   },
   "outputs": [
    {
     "data": {
      "text/html": [
       "<div>\n",
       "<style scoped>\n",
       "    .dataframe tbody tr th:only-of-type {\n",
       "        vertical-align: middle;\n",
       "    }\n",
       "\n",
       "    .dataframe tbody tr th {\n",
       "        vertical-align: top;\n",
       "    }\n",
       "\n",
       "    .dataframe thead th {\n",
       "        text-align: right;\n",
       "    }\n",
       "</style>\n",
       "<table border=\"1\" class=\"dataframe\">\n",
       "  <thead>\n",
       "    <tr style=\"text-align: right;\">\n",
       "      <th></th>\n",
       "      <th>title</th>\n",
       "      <th>selftext</th>\n",
       "    </tr>\n",
       "  </thead>\n",
       "  <tbody>\n",
       "    <tr>\n",
       "      <th>21</th>\n",
       "      <td>Lost access to a gmail account from when I was...</td>\n",
       "      <td>[removed]</td>\n",
       "    </tr>\n",
       "    <tr>\n",
       "      <th>30</th>\n",
       "      <td>Random but frequent BSOD</td>\n",
       "      <td>[removed]</td>\n",
       "    </tr>\n",
       "    <tr>\n",
       "      <th>48</th>\n",
       "      <td>3080 Ti - very very very low FPS on older game...</td>\n",
       "      <td>[removed]</td>\n",
       "    </tr>\n",
       "    <tr>\n",
       "      <th>52</th>\n",
       "      <td>Windows 10 Enterprise 21H1 - PAGE_FAULT_IN_NON...</td>\n",
       "      <td>[removed]</td>\n",
       "    </tr>\n",
       "    <tr>\n",
       "      <th>67</th>\n",
       "      <td>Task manager shows GPU at 80° c but afterburne...</td>\n",
       "      <td>[removed]</td>\n",
       "    </tr>\n",
       "    <tr>\n",
       "      <th>...</th>\n",
       "      <td>...</td>\n",
       "      <td>...</td>\n",
       "    </tr>\n",
       "    <tr>\n",
       "      <th>901</th>\n",
       "      <td>[Help] My phone's (S9+, android 9) battery jus...</td>\n",
       "      <td>[removed]</td>\n",
       "    </tr>\n",
       "    <tr>\n",
       "      <th>903</th>\n",
       "      <td>Cannot run game installer due to 'compatibilit...</td>\n",
       "      <td>[removed]</td>\n",
       "    </tr>\n",
       "    <tr>\n",
       "      <th>941</th>\n",
       "      <td>Found an old laptop but forgot the password, a...</td>\n",
       "      <td>[removed]</td>\n",
       "    </tr>\n",
       "    <tr>\n",
       "      <th>975</th>\n",
       "      <td>Plz help.. Windows update looks like it’s goin...</td>\n",
       "      <td>[removed]</td>\n",
       "    </tr>\n",
       "    <tr>\n",
       "      <th>997</th>\n",
       "      <td>i need help. my pc was slow, so i made a backu...</td>\n",
       "      <td>[removed]</td>\n",
       "    </tr>\n",
       "  </tbody>\n",
       "</table>\n",
       "<p>64 rows × 2 columns</p>\n",
       "</div>"
      ],
      "text/plain": [
       "                                                 title   selftext\n",
       "21   Lost access to a gmail account from when I was...  [removed]\n",
       "30                            Random but frequent BSOD  [removed]\n",
       "48   3080 Ti - very very very low FPS on older game...  [removed]\n",
       "52   Windows 10 Enterprise 21H1 - PAGE_FAULT_IN_NON...  [removed]\n",
       "67   Task manager shows GPU at 80° c but afterburne...  [removed]\n",
       "..                                                 ...        ...\n",
       "901  [Help] My phone's (S9+, android 9) battery jus...  [removed]\n",
       "903  Cannot run game installer due to 'compatibilit...  [removed]\n",
       "941  Found an old laptop but forgot the password, a...  [removed]\n",
       "975  Plz help.. Windows update looks like it’s goin...  [removed]\n",
       "997  i need help. my pc was slow, so i made a backu...  [removed]\n",
       "\n",
       "[64 rows x 2 columns]"
      ]
     },
     "execution_count": 44,
     "metadata": {},
     "output_type": "execute_result"
    }
   ],
   "source": [
    "# check the rows with [removed] value in the selftext column\n",
    "\n",
    "techsupport.loc[(techsupport['selftext'].isin(['[removed]'])), ['title', 'selftext']]"
   ]
  },
  {
   "cell_type": "markdown",
   "id": "209aced5",
   "metadata": {},
   "source": [
    "As it can be seen, these rows with [removed] in the selftext have a irrelevant title which are mainly topics that are irrelevant to the r/techsupport subreddit that have been removed by the moderator. Hence, we shall we dropping these rows accordingly. "
   ]
  },
  {
   "cell_type": "code",
   "execution_count": 45,
   "id": "020b2332",
   "metadata": {
    "ExecuteTime": {
     "end_time": "2022-01-13T11:12:28.532537Z",
     "start_time": "2022-01-13T11:12:28.514986Z"
    }
   },
   "outputs": [],
   "source": [
    "# dropping duplicated rows in 'title' column\n",
    "techsupport.drop_duplicates(subset = ['title'], inplace =  True)"
   ]
  },
  {
   "cell_type": "code",
   "execution_count": 46,
   "id": "67ad7b8f",
   "metadata": {
    "ExecuteTime": {
     "end_time": "2022-01-13T11:12:30.126672Z",
     "start_time": "2022-01-13T11:12:30.115307Z"
    }
   },
   "outputs": [],
   "source": [
    "# dropping dupliated rows in 'selftext' column\n",
    "techsupport.drop_duplicates(subset = ['selftext'], inplace =  True)"
   ]
  },
  {
   "cell_type": "code",
   "execution_count": 47,
   "id": "345996e1",
   "metadata": {
    "ExecuteTime": {
     "end_time": "2022-01-13T11:12:30.860389Z",
     "start_time": "2022-01-13T11:12:30.852296Z"
    }
   },
   "outputs": [
    {
     "data": {
      "text/plain": [
       "(933, 66)"
      ]
     },
     "execution_count": 47,
     "metadata": {},
     "output_type": "execute_result"
    }
   ],
   "source": [
    "techsupport.shape"
   ]
  },
  {
   "cell_type": "code",
   "execution_count": 48,
   "id": "942cd19c",
   "metadata": {
    "ExecuteTime": {
     "end_time": "2022-01-13T11:12:46.576798Z",
     "start_time": "2022-01-13T11:12:46.567424Z"
    }
   },
   "outputs": [
    {
     "data": {
      "text/html": [
       "<div>\n",
       "<style scoped>\n",
       "    .dataframe tbody tr th:only-of-type {\n",
       "        vertical-align: middle;\n",
       "    }\n",
       "\n",
       "    .dataframe tbody tr th {\n",
       "        vertical-align: top;\n",
       "    }\n",
       "\n",
       "    .dataframe thead th {\n",
       "        text-align: right;\n",
       "    }\n",
       "</style>\n",
       "<table border=\"1\" class=\"dataframe\">\n",
       "  <thead>\n",
       "    <tr style=\"text-align: right;\">\n",
       "      <th></th>\n",
       "      <th>subreddit</th>\n",
       "      <th>title</th>\n",
       "      <th>selftext</th>\n",
       "    </tr>\n",
       "  </thead>\n",
       "  <tbody>\n",
       "    <tr>\n",
       "      <th>0</th>\n",
       "      <td>techsupport</td>\n",
       "      <td>Win 11 dwm.exe is using way too much vram</td>\n",
       "      <td>I have been on Win 11 since the beta, in Octob...</td>\n",
       "    </tr>\n",
       "    <tr>\n",
       "      <th>1</th>\n",
       "      <td>techsupport</td>\n",
       "      <td>Toshiba Qosmio X70B10T graphics card not detec...</td>\n",
       "      <td>I recently had this laptop formated and I just...</td>\n",
       "    </tr>\n",
       "    <tr>\n",
       "      <th>2</th>\n",
       "      <td>techsupport</td>\n",
       "      <td>How to find original MD5 Hash</td>\n",
       "      <td>Hello, I am trying to determine if a file I ha...</td>\n",
       "    </tr>\n",
       "    <tr>\n",
       "      <th>3</th>\n",
       "      <td>techsupport</td>\n",
       "      <td>Is it worth upgrading to Windows 11 for mostly...</td>\n",
       "      <td>I recently got the notif that I can upgrade to...</td>\n",
       "    </tr>\n",
       "    <tr>\n",
       "      <th>4</th>\n",
       "      <td>techsupport</td>\n",
       "      <td>Deleted google tv remote, can't control tv</td>\n",
       "      <td>I was having trouble with my chromecast google...</td>\n",
       "    </tr>\n",
       "  </tbody>\n",
       "</table>\n",
       "</div>"
      ],
      "text/plain": [
       "     subreddit                                              title  \\\n",
       "0  techsupport          Win 11 dwm.exe is using way too much vram   \n",
       "1  techsupport  Toshiba Qosmio X70B10T graphics card not detec...   \n",
       "2  techsupport                      How to find original MD5 Hash   \n",
       "3  techsupport  Is it worth upgrading to Windows 11 for mostly...   \n",
       "4  techsupport         Deleted google tv remote, can't control tv   \n",
       "\n",
       "                                            selftext  \n",
       "0  I have been on Win 11 since the beta, in Octob...  \n",
       "1  I recently had this laptop formated and I just...  \n",
       "2  Hello, I am trying to determine if a file I ha...  \n",
       "3  I recently got the notif that I can upgrade to...  \n",
       "4  I was having trouble with my chromecast google...  "
      ]
     },
     "execution_count": 48,
     "metadata": {},
     "output_type": "execute_result"
    }
   ],
   "source": [
    "# creating a final dataframe with only 'subreddit'\n",
    "\n",
    "techsupport = techsupport[['subreddit', 'title', 'selftext']]\n",
    "techsupport.head()"
   ]
  },
  {
   "cell_type": "code",
   "execution_count": 49,
   "id": "40db71fc",
   "metadata": {
    "ExecuteTime": {
     "end_time": "2022-01-13T11:12:48.271598Z",
     "start_time": "2022-01-13T11:12:48.263575Z"
    }
   },
   "outputs": [
    {
     "data": {
      "text/plain": [
       "(933, 3)"
      ]
     },
     "execution_count": 49,
     "metadata": {},
     "output_type": "execute_result"
    }
   ],
   "source": [
    "# check the shape of the final dataframe to ensure there are 1000 entries\n",
    "techsupport.shape"
   ]
  },
  {
   "cell_type": "markdown",
   "id": "4423061f",
   "metadata": {},
   "source": [
    "## Exporting the data\n",
    "***\n",
    "The dataframe would be exported to a csv file where it will be used in the next notebook. "
   ]
  },
  {
   "cell_type": "code",
   "execution_count": 50,
   "id": "349a02b9",
   "metadata": {
    "ExecuteTime": {
     "end_time": "2022-01-13T11:12:56.694669Z",
     "start_time": "2022-01-13T11:12:56.653422Z"
    }
   },
   "outputs": [],
   "source": [
    "buildapc.to_csv('../datasets/buildapc.csv', index = False)"
   ]
  },
  {
   "cell_type": "code",
   "execution_count": 51,
   "id": "f1f439f6",
   "metadata": {
    "ExecuteTime": {
     "end_time": "2022-01-13T11:12:57.415831Z",
     "start_time": "2022-01-13T11:12:57.381657Z"
    }
   },
   "outputs": [],
   "source": [
    "techsupport.to_csv('../datasets/techsupport.csv', index = False)"
   ]
  }
 ],
 "metadata": {
  "kernelspec": {
   "display_name": "Python 3",
   "language": "python",
   "name": "python3"
  },
  "language_info": {
   "codemirror_mode": {
    "name": "ipython",
    "version": 3
   },
   "file_extension": ".py",
   "mimetype": "text/x-python",
   "name": "python",
   "nbconvert_exporter": "python",
   "pygments_lexer": "ipython3",
   "version": "3.8.8"
  },
  "toc": {
   "base_numbering": 1,
   "nav_menu": {},
   "number_sections": false,
   "sideBar": true,
   "skip_h1_title": false,
   "title_cell": "Table of Contents",
   "title_sidebar": "Contents",
   "toc_cell": false,
   "toc_position": {
    "height": "calc(100% - 180px)",
    "left": "10px",
    "top": "150px",
    "width": "204.625px"
   },
   "toc_section_display": true,
   "toc_window_display": true
  }
 },
 "nbformat": 4,
 "nbformat_minor": 5
}
