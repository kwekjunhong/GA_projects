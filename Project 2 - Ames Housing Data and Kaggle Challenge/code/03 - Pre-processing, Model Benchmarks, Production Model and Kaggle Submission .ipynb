{
 "cells": [
  {
   "cell_type": "markdown",
   "id": "8043985b",
   "metadata": {},
   "source": [
    "# GA DSI 26: Project 2 - Ames Housing Data and Kaggle Challenge\n",
    "***\n",
    "\n",
    "## Project Notebooks organisation  \n",
    "- Notebook 1 - Data Cleaning, EDA and Data Visualisation\n",
    "- Notebook 2 - Feature Engineering  \n",
    "- **Notebook 3 - Pre-processing, Model Benchmarks, Production Model and Kaggle Submission (current notebook)**\n",
    "***\n",
    "\n",
    "## Introduction\n",
    "\n",
    "In this notebook, I will be carrying out pre-processing to prepare the data for modelling then carrying out model benchmarks via cross validation. After which, i will be deciding on a production model based on the cross validation scores and picking the top 30 coefficients of that model and re-run the model to see if a better score is obtained. Lastly, i will be using some of the models on the Kaggle test set and uploading to Kaggle for scoring. "
   ]
  },
  {
   "cell_type": "code",
   "execution_count": 1,
   "id": "3bbce5b4",
   "metadata": {},
   "outputs": [],
   "source": [
    "# Import libraries\n",
    "\n",
    "import numpy as np\n",
    "import pandas as pd\n",
    "import matplotlib.pyplot as plt\n",
    "import seaborn as sns\n",
    "sns.set_style('ticks')\n",
    "\n",
    "from sklearn.model_selection import cross_val_score, train_test_split, KFold\n",
    "from sklearn.preprocessing import StandardScaler, PowerTransformer\n",
    "from sklearn.linear_model import LinearRegression, Ridge, RidgeCV, Lasso, LassoCV, ElasticNet, ElasticNetCV\n",
    "from sklearn.metrics import mean_squared_error\n",
    "from sklearn.dummy import DummyRegressor\n",
    "\n",
    "import warnings\n",
    "warnings.filterwarnings('ignore')"
   ]
  },
  {
   "cell_type": "code",
   "execution_count": 2,
   "id": "d32b732f",
   "metadata": {},
   "outputs": [],
   "source": [
    "# Import data\n",
    "\n",
    "train_eng = pd.read_csv('../datasets/train_eng.csv')"
   ]
  },
  {
   "cell_type": "code",
   "execution_count": 3,
   "id": "f70693fc",
   "metadata": {},
   "outputs": [],
   "source": [
    "# remove unnamed column\n",
    "train_eng = train_eng.iloc[:, 1:]\n",
    "\n",
    "# convert 'ms_subclass' column to str after importing\n",
    "train_eng['ms_subclass'] = train_eng['ms_subclass'].astype(str);"
   ]
  },
  {
   "cell_type": "code",
   "execution_count": 4,
   "id": "57e72f70",
   "metadata": {},
   "outputs": [
    {
     "name": "stdout",
     "output_type": "stream",
     "text": [
      "<class 'pandas.core.frame.DataFrame'>\n",
      "RangeIndex: 2042 entries, 0 to 2041\n",
      "Data columns (total 39 columns):\n",
      " #   Column          Non-Null Count  Dtype  \n",
      "---  ------          --------------  -----  \n",
      " 0   1st_flr_sf      2042 non-null   int64  \n",
      " 1   bsmt_exposure   2042 non-null   object \n",
      " 2   bsmt_full_bath  2042 non-null   float64\n",
      " 3   bsmt_qual       2042 non-null   int64  \n",
      " 4   bsmtfin_type_1  2042 non-null   int64  \n",
      " 5   exter_qual      2042 non-null   int64  \n",
      " 6   fireplace_qu    2042 non-null   int64  \n",
      " 7   fireplaces      2042 non-null   int64  \n",
      " 8   foundation      2042 non-null   object \n",
      " 9   full_bath       2042 non-null   int64  \n",
      " 10  garage_area     2042 non-null   float64\n",
      " 11  garage_finish   2042 non-null   object \n",
      " 12  garage_type     2042 non-null   object \n",
      " 13  garage_yr_blt   2042 non-null   float64\n",
      " 14  gr_liv_area     2042 non-null   int64  \n",
      " 15  half_bath       2042 non-null   int64  \n",
      " 16  heating_qc      2042 non-null   int64  \n",
      " 17  house_style     2042 non-null   object \n",
      " 18  id              2042 non-null   int64  \n",
      " 19  kitchen_qual    2042 non-null   int64  \n",
      " 20  lot_area        2042 non-null   int64  \n",
      " 21  lot_config      2042 non-null   object \n",
      " 22  lot_frontage    2042 non-null   float64\n",
      " 23  lot_shape       2042 non-null   int64  \n",
      " 24  mas_vnr_area    2042 non-null   float64\n",
      " 25  mas_vnr_type    2042 non-null   object \n",
      " 26  ms_subclass     2042 non-null   object \n",
      " 27  ms_zoning       2042 non-null   object \n",
      " 28  neighborhood    2042 non-null   object \n",
      " 29  overall_qual    2042 non-null   int64  \n",
      " 30  roof_style      2042 non-null   object \n",
      " 31  saleprice       2042 non-null   int64  \n",
      " 32  total_bsmt_sf   2042 non-null   float64\n",
      " 33  wood_deck_sf    2042 non-null   int64  \n",
      " 34  porch           2042 non-null   int64  \n",
      " 35  pool            2042 non-null   int64  \n",
      " 36  age_sold        2042 non-null   int64  \n",
      " 37  remodelled      2042 non-null   int64  \n",
      " 38  exterior        2042 non-null   object \n",
      "dtypes: float64(6), int64(21), object(12)\n",
      "memory usage: 622.3+ KB\n"
     ]
    }
   ],
   "source": [
    "train_eng.info()"
   ]
  },
  {
   "cell_type": "markdown",
   "id": "3f6644d0",
   "metadata": {},
   "source": [
    "## Pre-processing\n",
    "***"
   ]
  },
  {
   "cell_type": "markdown",
   "id": "dd408695",
   "metadata": {},
   "source": [
    "### Get dummies for train data\n",
    "\n",
    "After get dummies, there are 117 features in the dummy dataset."
   ]
  },
  {
   "cell_type": "code",
   "execution_count": 5,
   "id": "59fcb750",
   "metadata": {},
   "outputs": [],
   "source": [
    "train_dummies = pd.get_dummies(train_eng, drop_first = True)"
   ]
  },
  {
   "cell_type": "code",
   "execution_count": 6,
   "id": "acc1a8b9",
   "metadata": {},
   "outputs": [
    {
     "data": {
      "text/plain": [
       "(2042, 117)"
      ]
     },
     "execution_count": 6,
     "metadata": {},
     "output_type": "execute_result"
    }
   ],
   "source": [
    "train_dummies.shape"
   ]
  },
  {
   "cell_type": "markdown",
   "id": "94b780da",
   "metadata": {},
   "source": [
    "### Create feature matrix (X) and target vector (y)\n",
    "\n",
    "The feature matrix (X) is every column other than the saleprice which is our target vector (y)."
   ]
  },
  {
   "cell_type": "code",
   "execution_count": 7,
   "id": "f2296790",
   "metadata": {},
   "outputs": [
    {
     "name": "stdout",
     "output_type": "stream",
     "text": [
      "(2042, 116)\n",
      "(2042,)\n"
     ]
    }
   ],
   "source": [
    "X = train_dummies.loc[:, train_dummies.columns != 'saleprice']\n",
    "y = train_dummies['saleprice']\n",
    "\n",
    "print(X.shape)\n",
    "print(y.shape)"
   ]
  },
  {
   "cell_type": "markdown",
   "id": "d93aeef4",
   "metadata": {},
   "source": [
    "### Train-test split for train data\n",
    "\n",
    "As there are 2042 rows in the train dataset, the dataset is not particularly large hence I have decided to go with a split of 70% for training data set and 30% for testing dataset. Instead of using ```X_test``` and ```y_test```, I shall be using ```X_val``` and ```y_val``` instead so as not to confused with the test dataset provided"
   ]
  },
  {
   "cell_type": "code",
   "execution_count": 8,
   "id": "acfc2fec",
   "metadata": {},
   "outputs": [
    {
     "name": "stdout",
     "output_type": "stream",
     "text": [
      "(1429, 116)\n",
      "(613, 116)\n",
      "(1429,)\n",
      "(613,)\n"
     ]
    }
   ],
   "source": [
    "X_train, X_val, y_train, y_val = train_test_split(X, y, train_size = 0.7, random_state = 42)\n",
    "\n",
    "print(X_train.shape)\n",
    "print(X_val.shape)\n",
    "print(y_train.shape)\n",
    "print(y_val.shape)"
   ]
  },
  {
   "cell_type": "markdown",
   "id": "afd80a98",
   "metadata": {},
   "source": [
    "### Scaling using StandardScaler\n",
    "\n",
    "I will be using StandardScaler as there are multiple colunmns in the X dataset that are on different scales."
   ]
  },
  {
   "cell_type": "code",
   "execution_count": 9,
   "id": "f0a70106",
   "metadata": {},
   "outputs": [],
   "source": [
    "ss = StandardScaler()\n",
    "\n",
    "X_train_ss = ss.fit_transform(X_train)\n",
    "X_val_ss = ss.transform(X_val)"
   ]
  },
  {
   "cell_type": "markdown",
   "id": "fcffe485",
   "metadata": {},
   "source": [
    "## Model Preperation\n",
    "***"
   ]
  },
  {
   "cell_type": "markdown",
   "id": "3f0f8ab1",
   "metadata": {},
   "source": [
    "### Hyperparameter Tuning\n",
    "\n",
    "I will be trying to find the optimal alpha for both Ridge and Lasso and rerunning the model again to check for the new scores."
   ]
  },
  {
   "cell_type": "markdown",
   "id": "a1f72fe6",
   "metadata": {},
   "source": [
    "#### Optimal Ridge alpha α"
   ]
  },
  {
   "cell_type": "code",
   "execution_count": 10,
   "id": "92af8b97",
   "metadata": {},
   "outputs": [
    {
     "name": "stdout",
     "output_type": "stream",
     "text": [
      "Optimal Ridge Alpha:  19.116440753857027\n",
      "Best Ridge R2:  0.9185811022861159\n"
     ]
    }
   ],
   "source": [
    "# set up a list of ridge alpha to check\n",
    "r_alphas = np.logspace(0, 5, 200)\n",
    "\n",
    "# Cross-validate over our list of ridge alphas.\n",
    "ridge_cv = RidgeCV(alphas = r_alphas, cv = 10)\n",
    "ridge_cv = ridge_cv.fit(X_train_ss, y_train)\n",
    "\n",
    "print('Optimal Ridge Alpha: ', ridge_cv.alpha_)\n",
    "print('Best Ridge R2: ', ridge_cv.score(X_train_ss, y_train))"
   ]
  },
  {
   "cell_type": "markdown",
   "id": "88d207a2",
   "metadata": {},
   "source": [
    "#### Optimal Lasso alpha α"
   ]
  },
  {
   "cell_type": "code",
   "execution_count": 11,
   "id": "b699dcaf",
   "metadata": {},
   "outputs": [
    {
     "name": "stdout",
     "output_type": "stream",
     "text": [
      "Optimal Lasso alpha:  125.65240473439307\n",
      "Best Lasso R2:  0.9175112792621446\n"
     ]
    }
   ],
   "source": [
    "lasso_cv = LassoCV(n_alphas = 500, cv = 10)\n",
    "lasso_cv = lasso_cv.fit(X_train_ss, y_train)\n",
    "\n",
    "print('Optimal Lasso alpha: ', lasso_cv.alpha_)\n",
    "print('Best Lasso R2: ', lasso_cv.score(X_train_ss, y_train))"
   ]
  },
  {
   "cell_type": "markdown",
   "id": "3339cb48",
   "metadata": {},
   "source": [
    "### Instantiate the models (DummyRegressor, Linear Regression, Lasso and Ridge) "
   ]
  },
  {
   "cell_type": "code",
   "execution_count": 12,
   "id": "a5b5bf60",
   "metadata": {},
   "outputs": [],
   "source": [
    "dummy_reg = DummyRegressor() # default is using mean\n",
    "lr = LinearRegression()\n",
    "ridge = Ridge(alpha = ridge_cv.alpha_)\n",
    "lasso = Lasso(alpha = lasso_cv.alpha_)"
   ]
  },
  {
   "cell_type": "markdown",
   "id": "3c244615",
   "metadata": {},
   "source": [
    "### Cross validation \n",
    "\n",
    "I will be using 3 models (Linear Regression, Ridge and Lasso) and testing them using cross validation on the training data"
   ]
  },
  {
   "cell_type": "code",
   "execution_count": 13,
   "id": "9f6e7924",
   "metadata": {},
   "outputs": [],
   "source": [
    "def cross_val(model, x, y):\n",
    "    \"\"\"Function to calculate cross_val_score\"\"\"\n",
    "    rmse = -cross_val_score(model, x, y, cv = 10, scoring = 'neg_root_mean_squared_error')\n",
    "    r2 = cross_val_score(model, x, y, cv = 10)\n",
    "    print(model)\n",
    "    print(f\"Mean CV R2: {r2.mean()}\\nMean CV RMSE: {rmse.mean()}\\nStd CV R2 : {np.std(r2)}\\nStd CV RMSE: {np.std(rmse)}\\n\")"
   ]
  },
  {
   "cell_type": "code",
   "execution_count": 14,
   "id": "2bebc95f",
   "metadata": {
    "scrolled": false
   },
   "outputs": [
    {
     "name": "stdout",
     "output_type": "stream",
     "text": [
      "DummyRegressor()\n",
      "Mean CV R2: -0.004180595773010332\n",
      "Mean CV RMSE: 80055.03180720672\n",
      "Std CV R2 : 0.003841399043741929\n",
      "Std CV RMSE: 8434.48491404218\n",
      "\n",
      "LinearRegression()\n",
      "Mean CV R2: -6.836541447059624e+22\n",
      "Mean CV RMSE: 9942006741901734.0\n",
      "Std CV R2 : 1.5612393170847374e+23\n",
      "Std CV RMSE: 1.568466918336284e+16\n",
      "\n",
      "Ridge(alpha=19.116440753857027)\n",
      "Mean CV R2: 0.8959742659938115\n",
      "Mean CV RMSE: 25598.708289843584\n",
      "Std CV R2 : 0.02131970223683307\n",
      "Std CV RMSE: 3292.6469586946528\n",
      "\n",
      "Lasso(alpha=125.65240473439307)\n",
      "Mean CV R2: 0.8971143842726853\n",
      "Mean CV RMSE: 25475.83785958947\n",
      "Std CV R2 : 0.020671108810084937\n",
      "Std CV RMSE: 3326.956553758647\n",
      "\n"
     ]
    }
   ],
   "source": [
    "# cross validation with standard scaler for X data\n",
    "\n",
    "cross_val(dummy_reg, X_train_ss, y_train)\n",
    "cross_val(lr, X_train_ss, y_train)\n",
    "cross_val(ridge, X_train_ss, y_train)\n",
    "cross_val(lasso, X_train_ss, y_train)"
   ]
  },
  {
   "cell_type": "markdown",
   "id": "4eb00027",
   "metadata": {},
   "source": [
    "| Cross Validation Scores           | Mean CV R2 Score |    Mean CV RMSE   |\n",
    "|-----------------------------------|:----------------:|:-----------------:|\n",
    "| Dummy Regressor (Strategy: mean)  |    -0.00418059   |      80055.03     |\n",
    "| Linear Regression                 |   -6.836541e+22  |     9.942006e+15  |\n",
    "| Ridge (alpha = 19.1164)           |     0.895974     |      25598.70     |\n",
    "| Lasso (alpha = 125.6524)          |     0.897114     |      25475.83     |\n",
    "\n",
    "In total, four different models were tested (including the baseline model) using cross validation on the data and the R2 scores and RMSE are shown in the table above. \n",
    "\n",
    "As it can be seen from the result table, the ordinary linear regression model is performing very badly with a large Mean CV R2 score which should indicate that this is a poor fit to this dataset which is not entirely surprising with the large number of features used and possible complex relationships between these features, including multicollinearity. The regularised models are performing better than the ordinary linear regression model in which the best regularised model seems to be the Ridge model compared to Lasso. However, as the scores are very close to each other. \n",
    "\n",
    "As a next step, I will carry out model evaluation to confirm the scores with the train and test dataset,"
   ]
  },
  {
   "cell_type": "markdown",
   "id": "79822d2c",
   "metadata": {},
   "source": [
    "## Model Evaluation\n",
    "***"
   ]
  },
  {
   "cell_type": "code",
   "execution_count": 15,
   "id": "fd221c63",
   "metadata": {},
   "outputs": [],
   "source": [
    "def rmse(y_test, y_pred):\n",
    "    \"\"\"Function to calculate rmse score\"\"\"\n",
    "    return np.sqrt(mean_squared_error(y_test, y_pred))\n",
    "\n",
    "def model_eval(model, X_train, X_val, y_train, y_val):\n",
    "    \"Function to fit and generate the train and test scores and RMSE\"\n",
    "    model.fit(X_train, y_train)\n",
    "    pred = model.predict(X_val)\n",
    "    \n",
    "    print(f'{model}\\nR2 train score: {model.score(X_train, y_train)}\\nR2 test score: {model.score(X_val, y_val)}\\nRMSE: {rmse(y_val, pred)}\\n')"
   ]
  },
  {
   "cell_type": "markdown",
   "id": "0e172a6d",
   "metadata": {},
   "source": [
    "#### Fit models, get train and test scores"
   ]
  },
  {
   "cell_type": "code",
   "execution_count": 16,
   "id": "f678a498",
   "metadata": {
    "scrolled": true
   },
   "outputs": [
    {
     "name": "stdout",
     "output_type": "stream",
     "text": [
      "DummyRegressor()\n",
      "R2 train score: 0.0\n",
      "R2 test score: -0.0012779576065851117\n",
      "RMSE: 76412.97477239647\n",
      "\n",
      "LinearRegression()\n",
      "R2 train score: 0.9194024451675047\n",
      "R2 test score: 0.8865871664415672\n",
      "RMSE: 25717.034055742613\n",
      "\n",
      "Ridge(alpha=19.116440753857027)\n",
      "R2 train score: 0.9185811022861159\n",
      "R2 test score: 0.8877340344449347\n",
      "RMSE: 25586.674089624747\n",
      "\n",
      "Lasso(alpha=125.65240473439307)\n",
      "R2 train score: 0.9175112792621446\n",
      "R2 test score: 0.8875865872694767\n",
      "RMSE: 25603.47100969911\n",
      "\n"
     ]
    }
   ],
   "source": [
    "model_eval(dummy_reg, X_train_ss, X_val_ss, y_train, y_val)\n",
    "model_eval(lr, X_train_ss, X_val_ss, y_train, y_val)\n",
    "model_eval(ridge, X_train_ss, X_val_ss, y_train, y_val)\n",
    "model_eval(lasso, X_train_ss, X_val_ss, y_train, y_val)"
   ]
  },
  {
   "cell_type": "markdown",
   "id": "3d90c9de",
   "metadata": {},
   "source": [
    "| Model Evaluation                  | R2 Train Score | R2 Test Score |   RMSE   |\n",
    "|-----------------------------------|:--------------:|:-------------:|:--------:|\n",
    "| Dummy Regressor (Strategy: mean)  |       0.0      |    -0.00127   | 76412.97 |\n",
    "| Linear Regression                 |    0.919402    |    0.886587   | 25717.03 |\n",
    "| Ridge (alpha = 19.1164)           |    0.918581    |    0.887734   | 25586.67 |\n",
    "| Lasso (alpha = 125.6524)          |    0.917511    |    0.887586   | 25603.47 |\n",
    "\n",
    "As seen from table of results above, for the Linear Regressions, Ridge and Lasso models, there are differences in the train and test scores which could indicate some overfitting of the models. For the best performing model by a smaller extent is the Ridge model when comparing the train scores, test scores and the RMSE values which is the lowest. I have also decided to pick Ridge over Lasso as Laaso will tend to randomly leave one variable when there are two or more highly collinear variables. This not good for my interpretation of data as I am looking for the features that will affect sales price hence it will be better to use Ridge as it only reduces the coefficients close to zero but does not carry out any feature selection. This will allow me to sort the Ridge coefficients and pick the top 30 coefficients to ensure an easy to interpret production model.\n",
    "\n",
    "Compared to an ordinary linear regression, Ridge and Lasso applies a penalty term (L2 and L1 regularization technique respectively) which minimises the coefficients, thereby shrinking the coefficients of the least important features. It helps to reduces the bias compared to a linear regression, by reducing the number of coefficients and enabling the fitting of a more accurate regression line. \n",
    "\n",
    "As the features have been scaled prior to model evalaution, the coefficients in regularised regression models will be able to directly represent the importance of the feature in predicting the outcome. This allows one to select a subset of features to include in the final model which will be those that have the largest effect (both positive and negative) on `sale_price`. However, by choosing to go with a regularised regression model, they are slightly worse for interpretation than an ordinary linear model due to the lack of a direct relationship between features and the predictor because of the scaling that is done to the features."
   ]
  },
  {
   "cell_type": "markdown",
   "id": "d9c2a18e",
   "metadata": {},
   "source": [
    "## Production Model (Ridge Model)\n",
    "***\n",
    "\n"
   ]
  },
  {
   "cell_type": "markdown",
   "id": "4bc2e328",
   "metadata": {},
   "source": [
    "### Feature Selection\n",
    "\n",
    "For an easy to interpret production model, it is necessary to reduce the number of features even further than those selected by the regularised ridge model (the top model produced 116 non-zero coefficients). This was done using the coefficients obtained from the best model at the model evaluation stage. "
   ]
  },
  {
   "cell_type": "code",
   "execution_count": 17,
   "id": "8b58cb3e",
   "metadata": {
    "scrolled": true
   },
   "outputs": [
    {
     "data": {
      "text/plain": [
       "(116, 3)"
      ]
     },
     "execution_count": 17,
     "metadata": {},
     "output_type": "execute_result"
    }
   ],
   "source": [
    "ridge_coefs = pd.DataFrame({'variable':X.columns,\n",
    "                            'coef':ridge.coef_,\n",
    "                            'abs_coef':np.abs(ridge.coef_)})\n",
    "ridge_coefs.shape"
   ]
  },
  {
   "cell_type": "code",
   "execution_count": 18,
   "id": "4c43da8e",
   "metadata": {
    "scrolled": false
   },
   "outputs": [
    {
     "data": {
      "text/html": [
       "<div>\n",
       "<style scoped>\n",
       "    .dataframe tbody tr th:only-of-type {\n",
       "        vertical-align: middle;\n",
       "    }\n",
       "\n",
       "    .dataframe tbody tr th {\n",
       "        vertical-align: top;\n",
       "    }\n",
       "\n",
       "    .dataframe thead th {\n",
       "        text-align: right;\n",
       "    }\n",
       "</style>\n",
       "<table border=\"1\" class=\"dataframe\">\n",
       "  <thead>\n",
       "    <tr style=\"text-align: right;\">\n",
       "      <th></th>\n",
       "      <th>variable</th>\n",
       "      <th>coef</th>\n",
       "      <th>abs_coef</th>\n",
       "    </tr>\n",
       "  </thead>\n",
       "  <tbody>\n",
       "    <tr>\n",
       "      <th>10</th>\n",
       "      <td>gr_liv_area</td>\n",
       "      <td>20549.114000</td>\n",
       "      <td>20549.114000</td>\n",
       "    </tr>\n",
       "    <tr>\n",
       "      <th>19</th>\n",
       "      <td>overall_qual</td>\n",
       "      <td>13398.277462</td>\n",
       "      <td>13398.277462</td>\n",
       "    </tr>\n",
       "    <tr>\n",
       "      <th>62</th>\n",
       "      <td>ms_subclass_20</td>\n",
       "      <td>10695.686315</td>\n",
       "      <td>10695.686315</td>\n",
       "    </tr>\n",
       "    <tr>\n",
       "      <th>20</th>\n",
       "      <td>total_bsmt_sf</td>\n",
       "      <td>9484.287763</td>\n",
       "      <td>9484.287763</td>\n",
       "    </tr>\n",
       "    <tr>\n",
       "      <th>103</th>\n",
       "      <td>neighborhood_StoneBr</td>\n",
       "      <td>6748.390370</td>\n",
       "      <td>6748.390370</td>\n",
       "    </tr>\n",
       "    <tr>\n",
       "      <th>8</th>\n",
       "      <td>garage_area</td>\n",
       "      <td>6642.998468</td>\n",
       "      <td>6642.998468</td>\n",
       "    </tr>\n",
       "    <tr>\n",
       "      <th>4</th>\n",
       "      <td>exter_qual</td>\n",
       "      <td>6506.978851</td>\n",
       "      <td>6506.978851</td>\n",
       "    </tr>\n",
       "    <tr>\n",
       "      <th>56</th>\n",
       "      <td>mas_vnr_type_None</td>\n",
       "      <td>6489.857099</td>\n",
       "      <td>6489.857099</td>\n",
       "    </tr>\n",
       "    <tr>\n",
       "      <th>67</th>\n",
       "      <td>ms_subclass_60</td>\n",
       "      <td>6413.462278</td>\n",
       "      <td>6413.462278</td>\n",
       "    </tr>\n",
       "    <tr>\n",
       "      <th>14</th>\n",
       "      <td>kitchen_qual</td>\n",
       "      <td>6167.676860</td>\n",
       "      <td>6167.676860</td>\n",
       "    </tr>\n",
       "    <tr>\n",
       "      <th>115</th>\n",
       "      <td>exterior_wood</td>\n",
       "      <td>-6024.223979</td>\n",
       "      <td>6024.223979</td>\n",
       "    </tr>\n",
       "    <tr>\n",
       "      <th>18</th>\n",
       "      <td>mas_vnr_area</td>\n",
       "      <td>5765.739664</td>\n",
       "      <td>5765.739664</td>\n",
       "    </tr>\n",
       "    <tr>\n",
       "      <th>97</th>\n",
       "      <td>neighborhood_NridgHt</td>\n",
       "      <td>5757.774968</td>\n",
       "      <td>5757.774968</td>\n",
       "    </tr>\n",
       "    <tr>\n",
       "      <th>26</th>\n",
       "      <td>bsmt_exposure_Gd</td>\n",
       "      <td>5619.100417</td>\n",
       "      <td>5619.100417</td>\n",
       "    </tr>\n",
       "    <tr>\n",
       "      <th>24</th>\n",
       "      <td>age_sold</td>\n",
       "      <td>-5502.256997</td>\n",
       "      <td>5502.256997</td>\n",
       "    </tr>\n",
       "    <tr>\n",
       "      <th>63</th>\n",
       "      <td>ms_subclass_30</td>\n",
       "      <td>5323.882187</td>\n",
       "      <td>5323.882187</td>\n",
       "    </tr>\n",
       "    <tr>\n",
       "      <th>108</th>\n",
       "      <td>roof_style_Hip</td>\n",
       "      <td>5318.067636</td>\n",
       "      <td>5318.067636</td>\n",
       "    </tr>\n",
       "    <tr>\n",
       "      <th>114</th>\n",
       "      <td>exterior_vinyl</td>\n",
       "      <td>-5150.944267</td>\n",
       "      <td>5150.944267</td>\n",
       "    </tr>\n",
       "    <tr>\n",
       "      <th>42</th>\n",
       "      <td>garage_type_Detchd</td>\n",
       "      <td>4773.502642</td>\n",
       "      <td>4773.502642</td>\n",
       "    </tr>\n",
       "    <tr>\n",
       "      <th>38</th>\n",
       "      <td>garage_type_Attchd</td>\n",
       "      <td>4647.429017</td>\n",
       "      <td>4647.429017</td>\n",
       "    </tr>\n",
       "    <tr>\n",
       "      <th>1</th>\n",
       "      <td>bsmt_full_bath</td>\n",
       "      <td>4535.867629</td>\n",
       "      <td>4535.867629</td>\n",
       "    </tr>\n",
       "    <tr>\n",
       "      <th>15</th>\n",
       "      <td>lot_area</td>\n",
       "      <td>4464.213636</td>\n",
       "      <td>4464.213636</td>\n",
       "    </tr>\n",
       "    <tr>\n",
       "      <th>2</th>\n",
       "      <td>bsmt_qual</td>\n",
       "      <td>4115.264305</td>\n",
       "      <td>4115.264305</td>\n",
       "    </tr>\n",
       "    <tr>\n",
       "      <th>57</th>\n",
       "      <td>mas_vnr_type_Stone</td>\n",
       "      <td>4053.612441</td>\n",
       "      <td>4053.612441</td>\n",
       "    </tr>\n",
       "    <tr>\n",
       "      <th>36</th>\n",
       "      <td>garage_finish_RFn</td>\n",
       "      <td>-4004.705701</td>\n",
       "      <td>4004.705701</td>\n",
       "    </tr>\n",
       "    <tr>\n",
       "      <th>66</th>\n",
       "      <td>ms_subclass_50</td>\n",
       "      <td>3945.814911</td>\n",
       "      <td>3945.814911</td>\n",
       "    </tr>\n",
       "    <tr>\n",
       "      <th>74</th>\n",
       "      <td>ms_zoning_FV</td>\n",
       "      <td>3789.243715</td>\n",
       "      <td>3789.243715</td>\n",
       "    </tr>\n",
       "    <tr>\n",
       "      <th>3</th>\n",
       "      <td>bsmtfin_type_1</td>\n",
       "      <td>3672.837948</td>\n",
       "      <td>3672.837948</td>\n",
       "    </tr>\n",
       "    <tr>\n",
       "      <th>88</th>\n",
       "      <td>neighborhood_GrnHill</td>\n",
       "      <td>3464.716980</td>\n",
       "      <td>3464.716980</td>\n",
       "    </tr>\n",
       "    <tr>\n",
       "      <th>77</th>\n",
       "      <td>ms_zoning_RL</td>\n",
       "      <td>3274.340059</td>\n",
       "      <td>3274.340059</td>\n",
       "    </tr>\n",
       "    <tr>\n",
       "      <th>85</th>\n",
       "      <td>neighborhood_Edwards</td>\n",
       "      <td>-3195.650083</td>\n",
       "      <td>3195.650083</td>\n",
       "    </tr>\n",
       "  </tbody>\n",
       "</table>\n",
       "</div>"
      ],
      "text/plain": [
       "                 variable          coef      abs_coef\n",
       "10            gr_liv_area  20549.114000  20549.114000\n",
       "19           overall_qual  13398.277462  13398.277462\n",
       "62         ms_subclass_20  10695.686315  10695.686315\n",
       "20          total_bsmt_sf   9484.287763   9484.287763\n",
       "103  neighborhood_StoneBr   6748.390370   6748.390370\n",
       "8             garage_area   6642.998468   6642.998468\n",
       "4              exter_qual   6506.978851   6506.978851\n",
       "56      mas_vnr_type_None   6489.857099   6489.857099\n",
       "67         ms_subclass_60   6413.462278   6413.462278\n",
       "14           kitchen_qual   6167.676860   6167.676860\n",
       "115         exterior_wood  -6024.223979   6024.223979\n",
       "18           mas_vnr_area   5765.739664   5765.739664\n",
       "97   neighborhood_NridgHt   5757.774968   5757.774968\n",
       "26       bsmt_exposure_Gd   5619.100417   5619.100417\n",
       "24               age_sold  -5502.256997   5502.256997\n",
       "63         ms_subclass_30   5323.882187   5323.882187\n",
       "108        roof_style_Hip   5318.067636   5318.067636\n",
       "114        exterior_vinyl  -5150.944267   5150.944267\n",
       "42     garage_type_Detchd   4773.502642   4773.502642\n",
       "38     garage_type_Attchd   4647.429017   4647.429017\n",
       "1          bsmt_full_bath   4535.867629   4535.867629\n",
       "15               lot_area   4464.213636   4464.213636\n",
       "2               bsmt_qual   4115.264305   4115.264305\n",
       "57     mas_vnr_type_Stone   4053.612441   4053.612441\n",
       "36      garage_finish_RFn  -4004.705701   4004.705701\n",
       "66         ms_subclass_50   3945.814911   3945.814911\n",
       "74           ms_zoning_FV   3789.243715   3789.243715\n",
       "3          bsmtfin_type_1   3672.837948   3672.837948\n",
       "88   neighborhood_GrnHill   3464.716980   3464.716980\n",
       "77           ms_zoning_RL   3274.340059   3274.340059\n",
       "85   neighborhood_Edwards  -3195.650083   3195.650083"
      ]
     },
     "execution_count": 18,
     "metadata": {},
     "output_type": "execute_result"
    }
   ],
   "source": [
    "ridge_coefs.sort_values(by = 'abs_coef')\n",
    "top_thirty_features = ridge_coefs.sort_values(by = 'abs_coef', ascending = False).head(31)\n",
    "top_thirty_features "
   ]
  },
  {
   "cell_type": "markdown",
   "id": "30adea86",
   "metadata": {},
   "source": [
    "As the `neighborhood_GrnHill` row only got 2 values in the train set as observed during EDA, we will be taking the top 31 coefficients and dropping `neighborhood_GrnHill` from it."
   ]
  },
  {
   "cell_type": "code",
   "execution_count": 19,
   "id": "ad5e4053",
   "metadata": {},
   "outputs": [],
   "source": [
    "top_thirty_features.drop(top_thirty_features[top_thirty_features['variable'] == 'neighborhood_GrnHill'].index, inplace = True)"
   ]
  },
  {
   "cell_type": "code",
   "execution_count": 20,
   "id": "3cd328b9",
   "metadata": {},
   "outputs": [
    {
     "data": {
      "text/plain": [
       "(30, 3)"
      ]
     },
     "execution_count": 20,
     "metadata": {},
     "output_type": "execute_result"
    }
   ],
   "source": [
    "# to check if the row has been dropped\n",
    "top_thirty_features.shape"
   ]
  },
  {
   "cell_type": "code",
   "execution_count": 21,
   "id": "f3cc0379",
   "metadata": {},
   "outputs": [
    {
     "data": {
      "text/plain": [
       "['gr_liv_area',\n",
       " 'overall_qual',\n",
       " 'ms_subclass_20',\n",
       " 'total_bsmt_sf',\n",
       " 'neighborhood_StoneBr',\n",
       " 'garage_area',\n",
       " 'exter_qual',\n",
       " 'mas_vnr_type_None',\n",
       " 'ms_subclass_60',\n",
       " 'kitchen_qual',\n",
       " 'exterior_wood',\n",
       " 'mas_vnr_area',\n",
       " 'neighborhood_NridgHt',\n",
       " 'bsmt_exposure_Gd',\n",
       " 'age_sold',\n",
       " 'ms_subclass_30',\n",
       " 'roof_style_Hip',\n",
       " 'exterior_vinyl',\n",
       " 'garage_type_Detchd',\n",
       " 'garage_type_Attchd',\n",
       " 'bsmt_full_bath',\n",
       " 'lot_area',\n",
       " 'bsmt_qual',\n",
       " 'mas_vnr_type_Stone',\n",
       " 'garage_finish_RFn',\n",
       " 'ms_subclass_50',\n",
       " 'ms_zoning_FV',\n",
       " 'bsmtfin_type_1',\n",
       " 'ms_zoning_RL',\n",
       " 'neighborhood_Edwards']"
      ]
     },
     "execution_count": 21,
     "metadata": {},
     "output_type": "execute_result"
    }
   ],
   "source": [
    "# get the list of top thirty features\n",
    "thirty_lst = top_thirty_features['variable'].to_list()\n",
    "thirty_lst"
   ]
  },
  {
   "cell_type": "markdown",
   "id": "8e85d77d",
   "metadata": {},
   "source": [
    "### Run the production model with the top 30 features"
   ]
  },
  {
   "cell_type": "code",
   "execution_count": 22,
   "id": "8fd2a198",
   "metadata": {},
   "outputs": [
    {
     "name": "stdout",
     "output_type": "stream",
     "text": [
      "(2042, 30)\n",
      "(2042,)\n"
     ]
    }
   ],
   "source": [
    "# Create the new feature matrix with only the top 30 features\n",
    "\n",
    "X_pmodel = X.loc[:, thirty_lst] # slicing it from X as X has already been OHE and saleprice column removed\n",
    "y_pmodel = train_dummies['saleprice']\n",
    "\n",
    "print(X_pmodel.shape)\n",
    "print(y_pmodel.shape)"
   ]
  },
  {
   "cell_type": "code",
   "execution_count": 23,
   "id": "38f52f71",
   "metadata": {},
   "outputs": [
    {
     "name": "stdout",
     "output_type": "stream",
     "text": [
      "(1429, 30)\n",
      "(613, 30)\n",
      "(1429,)\n",
      "(613,)\n"
     ]
    }
   ],
   "source": [
    "# rerun train, test, split and the varaibles will not have the underscore to ensure it is not confused with the train test split done above\n",
    "\n",
    "Xtrain, Xval, ytrain, yval = train_test_split(X_pmodel, y_pmodel, train_size = 0.7, random_state = 42)\n",
    "\n",
    "print(Xtrain.shape)\n",
    "print(Xval.shape)\n",
    "print(ytrain.shape)\n",
    "print(yval.shape)"
   ]
  },
  {
   "cell_type": "code",
   "execution_count": 24,
   "id": "6de4c768",
   "metadata": {},
   "outputs": [],
   "source": [
    "# Scale the X data\n",
    "\n",
    "Xtrain_ss = ss.fit_transform(Xtrain)\n",
    "Xval_ss = ss.transform(Xval)"
   ]
  },
  {
   "cell_type": "code",
   "execution_count": 25,
   "id": "f731d345",
   "metadata": {},
   "outputs": [
    {
     "name": "stdout",
     "output_type": "stream",
     "text": [
      "Optimal Ridge Alpha:  20.255019392306675\n",
      "Best Ridge R2:  0.8998331624029349\n"
     ]
    }
   ],
   "source": [
    "# set up a list of ridge alpha to check\n",
    "r_alphas = np.logspace(0, 5, 200)\n",
    "\n",
    "# Cross-validate over our list of ridge alphas.\n",
    "ridgecv = RidgeCV(alphas = r_alphas, cv = 10)\n",
    "ridgecv = ridgecv.fit(Xtrain_ss, ytrain)\n",
    "\n",
    "print('Optimal Ridge Alpha: ', ridgecv.alpha_)\n",
    "print('Best Ridge R2: ', ridgecv.score(Xtrain_ss, ytrain))"
   ]
  },
  {
   "cell_type": "code",
   "execution_count": 26,
   "id": "80b5667c",
   "metadata": {},
   "outputs": [],
   "source": [
    "ridge_pmodel = Ridge(alpha = ridgecv.alpha_)"
   ]
  },
  {
   "cell_type": "code",
   "execution_count": 27,
   "id": "2854baa1",
   "metadata": {},
   "outputs": [
    {
     "name": "stdout",
     "output_type": "stream",
     "text": [
      "Ridge(alpha=20.255019392306675)\n",
      "Mean CV R2: 0.8926963673612995\n",
      "Mean CV RMSE: 25996.433107173954\n",
      "Std CV R2 : 0.020713534213446586\n",
      "Std CV RMSE: 3200.927405738433\n",
      "\n"
     ]
    }
   ],
   "source": [
    "cross_val(ridge_pmodel, Xtrain_ss, ytrain)"
   ]
  },
  {
   "cell_type": "code",
   "execution_count": 28,
   "id": "83a06a9c",
   "metadata": {},
   "outputs": [
    {
     "name": "stdout",
     "output_type": "stream",
     "text": [
      "Ridge Production Model R2 test score: 0.8724486015289351\n",
      "Ridge Production Model  R2 RMSE score: 27272.967293579073\n"
     ]
    }
   ],
   "source": [
    "ridge_pmodel.fit(Xtrain_ss, ytrain)\n",
    "rid_pred = ridge_pmodel.predict(Xval_ss)\n",
    "\n",
    "print(f'Ridge Production Model R2 test score: {ridge_pmodel.score(Xval_ss, yval)}')\n",
    "print(f'Ridge Production Model  R2 RMSE score: {rmse(yval, rid_pred)}')"
   ]
  },
  {
   "cell_type": "markdown",
   "id": "3b72b38b",
   "metadata": {},
   "source": [
    "#### Coefficients of production model"
   ]
  },
  {
   "cell_type": "code",
   "execution_count": 29,
   "id": "5f167b56",
   "metadata": {
    "scrolled": false
   },
   "outputs": [
    {
     "data": {
      "text/html": [
       "<div>\n",
       "<style scoped>\n",
       "    .dataframe tbody tr th:only-of-type {\n",
       "        vertical-align: middle;\n",
       "    }\n",
       "\n",
       "    .dataframe tbody tr th {\n",
       "        vertical-align: top;\n",
       "    }\n",
       "\n",
       "    .dataframe thead th {\n",
       "        text-align: right;\n",
       "    }\n",
       "</style>\n",
       "<table border=\"1\" class=\"dataframe\">\n",
       "  <thead>\n",
       "    <tr style=\"text-align: right;\">\n",
       "      <th></th>\n",
       "      <th>variable</th>\n",
       "      <th>coef</th>\n",
       "      <th>abs_coef</th>\n",
       "    </tr>\n",
       "  </thead>\n",
       "  <tbody>\n",
       "    <tr>\n",
       "      <th>0</th>\n",
       "      <td>gr_liv_area</td>\n",
       "      <td>26510.817141</td>\n",
       "      <td>26510.817141</td>\n",
       "    </tr>\n",
       "    <tr>\n",
       "      <th>1</th>\n",
       "      <td>overall_qual</td>\n",
       "      <td>15947.724209</td>\n",
       "      <td>15947.724209</td>\n",
       "    </tr>\n",
       "    <tr>\n",
       "      <th>6</th>\n",
       "      <td>exter_qual</td>\n",
       "      <td>7927.397367</td>\n",
       "      <td>7927.397367</td>\n",
       "    </tr>\n",
       "    <tr>\n",
       "      <th>13</th>\n",
       "      <td>bsmt_exposure_Gd</td>\n",
       "      <td>7215.053876</td>\n",
       "      <td>7215.053876</td>\n",
       "    </tr>\n",
       "    <tr>\n",
       "      <th>9</th>\n",
       "      <td>kitchen_qual</td>\n",
       "      <td>7092.876049</td>\n",
       "      <td>7092.876049</td>\n",
       "    </tr>\n",
       "    <tr>\n",
       "      <th>3</th>\n",
       "      <td>total_bsmt_sf</td>\n",
       "      <td>6916.518115</td>\n",
       "      <td>6916.518115</td>\n",
       "    </tr>\n",
       "    <tr>\n",
       "      <th>11</th>\n",
       "      <td>mas_vnr_area</td>\n",
       "      <td>6867.833492</td>\n",
       "      <td>6867.833492</td>\n",
       "    </tr>\n",
       "    <tr>\n",
       "      <th>12</th>\n",
       "      <td>neighborhood_NridgHt</td>\n",
       "      <td>6353.417921</td>\n",
       "      <td>6353.417921</td>\n",
       "    </tr>\n",
       "    <tr>\n",
       "      <th>4</th>\n",
       "      <td>neighborhood_StoneBr</td>\n",
       "      <td>6119.497826</td>\n",
       "      <td>6119.497826</td>\n",
       "    </tr>\n",
       "    <tr>\n",
       "      <th>5</th>\n",
       "      <td>garage_area</td>\n",
       "      <td>5911.000347</td>\n",
       "      <td>5911.000347</td>\n",
       "    </tr>\n",
       "    <tr>\n",
       "      <th>21</th>\n",
       "      <td>lot_area</td>\n",
       "      <td>5710.830585</td>\n",
       "      <td>5710.830585</td>\n",
       "    </tr>\n",
       "    <tr>\n",
       "      <th>2</th>\n",
       "      <td>ms_subclass_20</td>\n",
       "      <td>5291.501170</td>\n",
       "      <td>5291.501170</td>\n",
       "    </tr>\n",
       "    <tr>\n",
       "      <th>20</th>\n",
       "      <td>bsmt_full_bath</td>\n",
       "      <td>5040.769292</td>\n",
       "      <td>5040.769292</td>\n",
       "    </tr>\n",
       "    <tr>\n",
       "      <th>7</th>\n",
       "      <td>mas_vnr_type_None</td>\n",
       "      <td>4629.970534</td>\n",
       "      <td>4629.970534</td>\n",
       "    </tr>\n",
       "    <tr>\n",
       "      <th>14</th>\n",
       "      <td>age_sold</td>\n",
       "      <td>-3829.202185</td>\n",
       "      <td>3829.202185</td>\n",
       "    </tr>\n",
       "    <tr>\n",
       "      <th>24</th>\n",
       "      <td>garage_finish_RFn</td>\n",
       "      <td>-3641.029629</td>\n",
       "      <td>3641.029629</td>\n",
       "    </tr>\n",
       "    <tr>\n",
       "      <th>27</th>\n",
       "      <td>bsmtfin_type_1</td>\n",
       "      <td>3473.747317</td>\n",
       "      <td>3473.747317</td>\n",
       "    </tr>\n",
       "    <tr>\n",
       "      <th>16</th>\n",
       "      <td>roof_style_Hip</td>\n",
       "      <td>3470.641458</td>\n",
       "      <td>3470.641458</td>\n",
       "    </tr>\n",
       "    <tr>\n",
       "      <th>10</th>\n",
       "      <td>exterior_wood</td>\n",
       "      <td>-3389.075935</td>\n",
       "      <td>3389.075935</td>\n",
       "    </tr>\n",
       "    <tr>\n",
       "      <th>15</th>\n",
       "      <td>ms_subclass_30</td>\n",
       "      <td>3287.840900</td>\n",
       "      <td>3287.840900</td>\n",
       "    </tr>\n",
       "    <tr>\n",
       "      <th>23</th>\n",
       "      <td>mas_vnr_type_Stone</td>\n",
       "      <td>3077.972412</td>\n",
       "      <td>3077.972412</td>\n",
       "    </tr>\n",
       "    <tr>\n",
       "      <th>28</th>\n",
       "      <td>ms_zoning_RL</td>\n",
       "      <td>2781.790756</td>\n",
       "      <td>2781.790756</td>\n",
       "    </tr>\n",
       "    <tr>\n",
       "      <th>8</th>\n",
       "      <td>ms_subclass_60</td>\n",
       "      <td>2498.965512</td>\n",
       "      <td>2498.965512</td>\n",
       "    </tr>\n",
       "    <tr>\n",
       "      <th>22</th>\n",
       "      <td>bsmt_qual</td>\n",
       "      <td>2420.108669</td>\n",
       "      <td>2420.108669</td>\n",
       "    </tr>\n",
       "    <tr>\n",
       "      <th>26</th>\n",
       "      <td>ms_zoning_FV</td>\n",
       "      <td>2149.800613</td>\n",
       "      <td>2149.800613</td>\n",
       "    </tr>\n",
       "    <tr>\n",
       "      <th>29</th>\n",
       "      <td>neighborhood_Edwards</td>\n",
       "      <td>-2017.065527</td>\n",
       "      <td>2017.065527</td>\n",
       "    </tr>\n",
       "    <tr>\n",
       "      <th>17</th>\n",
       "      <td>exterior_vinyl</td>\n",
       "      <td>-1610.889889</td>\n",
       "      <td>1610.889889</td>\n",
       "    </tr>\n",
       "    <tr>\n",
       "      <th>25</th>\n",
       "      <td>ms_subclass_50</td>\n",
       "      <td>1339.530867</td>\n",
       "      <td>1339.530867</td>\n",
       "    </tr>\n",
       "    <tr>\n",
       "      <th>19</th>\n",
       "      <td>garage_type_Attchd</td>\n",
       "      <td>500.549650</td>\n",
       "      <td>500.549650</td>\n",
       "    </tr>\n",
       "    <tr>\n",
       "      <th>18</th>\n",
       "      <td>garage_type_Detchd</td>\n",
       "      <td>-299.079406</td>\n",
       "      <td>299.079406</td>\n",
       "    </tr>\n",
       "  </tbody>\n",
       "</table>\n",
       "</div>"
      ],
      "text/plain": [
       "                variable          coef      abs_coef\n",
       "0            gr_liv_area  26510.817141  26510.817141\n",
       "1           overall_qual  15947.724209  15947.724209\n",
       "6             exter_qual   7927.397367   7927.397367\n",
       "13      bsmt_exposure_Gd   7215.053876   7215.053876\n",
       "9           kitchen_qual   7092.876049   7092.876049\n",
       "3          total_bsmt_sf   6916.518115   6916.518115\n",
       "11          mas_vnr_area   6867.833492   6867.833492\n",
       "12  neighborhood_NridgHt   6353.417921   6353.417921\n",
       "4   neighborhood_StoneBr   6119.497826   6119.497826\n",
       "5            garage_area   5911.000347   5911.000347\n",
       "21              lot_area   5710.830585   5710.830585\n",
       "2         ms_subclass_20   5291.501170   5291.501170\n",
       "20        bsmt_full_bath   5040.769292   5040.769292\n",
       "7      mas_vnr_type_None   4629.970534   4629.970534\n",
       "14              age_sold  -3829.202185   3829.202185\n",
       "24     garage_finish_RFn  -3641.029629   3641.029629\n",
       "27        bsmtfin_type_1   3473.747317   3473.747317\n",
       "16        roof_style_Hip   3470.641458   3470.641458\n",
       "10         exterior_wood  -3389.075935   3389.075935\n",
       "15        ms_subclass_30   3287.840900   3287.840900\n",
       "23    mas_vnr_type_Stone   3077.972412   3077.972412\n",
       "28          ms_zoning_RL   2781.790756   2781.790756\n",
       "8         ms_subclass_60   2498.965512   2498.965512\n",
       "22             bsmt_qual   2420.108669   2420.108669\n",
       "26          ms_zoning_FV   2149.800613   2149.800613\n",
       "29  neighborhood_Edwards  -2017.065527   2017.065527\n",
       "17        exterior_vinyl  -1610.889889   1610.889889\n",
       "25        ms_subclass_50   1339.530867   1339.530867\n",
       "19    garage_type_Attchd    500.549650    500.549650\n",
       "18    garage_type_Detchd   -299.079406    299.079406"
      ]
     },
     "execution_count": 29,
     "metadata": {},
     "output_type": "execute_result"
    }
   ],
   "source": [
    "ridge_pmodel_coefs = pd.DataFrame({'variable':Xtrain.columns,\n",
    "                            'coef':ridge_pmodel.coef_,\n",
    "                            'abs_coef':np.abs(ridge_pmodel.coef_)})\n",
    "ridge_pmodel_coefs.sort_values(by = 'abs_coef', ascending  = False, inplace = True)\n",
    "ridge_pmodel_coefs"
   ]
  },
  {
   "cell_type": "markdown",
   "id": "373bd469",
   "metadata": {},
   "source": [
    "The production model coefficients table above would show their relative importance/influence on the model. \n",
    "\n",
    "As it is expected, the area features of a house that have been identified during EDA have a large impact on the `sale_price`.\n",
    "- `gr_liv_area`: 1 unit increase will result in a USD 26,510 increase in `sale_price`\n",
    "- `total_bsmt_sf`: 1 unit increase will result in a USD 6,916 increase in `sale_price`\n",
    "- `garage_area`: 1 unit increase will result in a USD 5,911 increase in `sale_price`\n",
    "\n",
    "In addition, the quality features will also affect `sale_price` to a large extent.\n",
    "- `overall_qual`: 1 unit increase will result in a USD 15,947 increase in `sale_price`\n",
    "- `exter_qual`: 1 unit increase will result in a USD 7,927 increase in `sale_price`\n",
    "- `kitchen_qual`: 1 unit increase will result in a USD 7,092 increase in `sale_price`\n",
    "\n",
    "There are features with negative coefficients that are impacting `sale_price` includes:\n",
    "- `age_sold`: 1 unit increase will result in a USD 3,829 decrease in `sale_price`\n",
    "\n",
    "Features that are also positively impacting the `sale_price` includes location (`neighborhood_StoneBr` - Stone Brook, `neighborhood_NridgHt` - Northridge Heights), building class (`ms_subclass_20` - 1-STORY 1946 & NEWER ALL STYLES, `ms_subclass_60` - 2-STORY 1946 & NEWER). \n",
    "\n",
    "Features that are negatively impacting the `sale_price` includes location (`neighborhood_Edwards` - Edwards), the exterior materials (`exterior_wood`, `exterior_vinyl`) and having a rough garage finish (`garage_finish_RFn`)"
   ]
  },
  {
   "cell_type": "code",
   "execution_count": 30,
   "id": "bc4213a2",
   "metadata": {},
   "outputs": [
    {
     "data": {
      "image/png": "[encoded data removed]",
      "text/plain": [
       "<Figure size 1080x648 with 1 Axes>"
      ]
     },
     "metadata": {},
     "output_type": "display_data"
    }
   ],
   "source": [
    "# plotting of bar chart of the coefficients.\n",
    "plt.figure(figsize = (15,9))\n",
    "sns.barplot(x = ridge_pmodel_coefs['coef'], y = ridge_pmodel_coefs['variable'], orient = 'h', color = 'salmon');\n"
   ]
  },
  {
   "cell_type": "markdown",
   "id": "25d5198f",
   "metadata": {},
   "source": [
    "#### Production Model Score\n",
    "\n",
    "|                          | R2 Test Score |   RMSE   |\n",
    "|--------------------------|:-------------:|:--------:|\n",
    "| Ridge                    |    0.887734   | 25586.67 |\n",
    "| Ridge (with 30 features) |    0.872448   | 27272.96 |\n",
    "\n",
    "The test score of the production model with 30 features at 0.872 is slightly worse than the test score of the original ridge model at 0.887 that was ran with 100+ features. This could be explain that the predictive power of the models will decrease when the number of features are reduced hence leading to a lower score with lesser features.\n"
   ]
  },
  {
   "cell_type": "markdown",
   "id": "6e0108e9",
   "metadata": {},
   "source": [
    "### Inferential plots of the production model"
   ]
  },
  {
   "cell_type": "markdown",
   "id": "4925c8d9",
   "metadata": {},
   "source": [
    "#### Predicted Values Distribution Plot\n",
    "\n",
    "In the predicted values distribution plot below, it can be seen that the predicted y values and y valdiation values are generally of a linear relationship with a 1:1 relationship between the values with some exceptions in the outliers."
   ]
  },
  {
   "cell_type": "code",
   "execution_count": 31,
   "id": "79bfe4ba",
   "metadata": {},
   "outputs": [
    {
     "data": {
      "image/png": "[encoded data removed]",
      "text/plain": [
       "<Figure size 432x432 with 1 Axes>"
      ]
     },
     "metadata": {},
     "output_type": "display_data"
    }
   ],
   "source": [
    "fig, ax = plt.subplots(figsize = (6.0, 6.0))\n",
    "sns.regplot(yval, rid_pred)\n",
    "ax.set_title('Predicted Values Distribution plot',fontsize = 14)\n",
    "ax.set_xlabel('Actual values',fontsize = 12)\n",
    "ax.set_ylabel('Predicted Values',fontsize = 12)\n",
    "# ax.plot(ax.get_xlim(), ax.get_ylim(), ls = \"-\", c = \"r\")\n",
    "plt.plot([], [], ' ', label = \"model: Ridge\")\n",
    "plt.legend()\n",
    "plt.tight_layout()"
   ]
  },
  {
   "cell_type": "markdown",
   "id": "3d727cea",
   "metadata": {},
   "source": [
    "#### Residual Distribution Plot\n",
    "\n",
    "In the residual distribution plot above, it can be seen the residuals are scattered with a roughly equal distribution of variance of the residual points and the pattern is said to be unbiased and homoscedasticity. "
   ]
  },
  {
   "cell_type": "code",
   "execution_count": 32,
   "id": "9ab486df",
   "metadata": {},
   "outputs": [
    {
     "data": {
      "image/png": "[encoded data removed]",
      "text/plain": [
       "<Figure size 432x432 with 1 Axes>"
      ]
     },
     "metadata": {},
     "output_type": "display_data"
    }
   ],
   "source": [
    "plt.figure(figsize = (6.0, 6.0))\n",
    "plt.scatter(yval, (rid_pred - yval))\n",
    "plt.axhline(0, linestyle='-', color='r')\n",
    "plt.title('Residuals Distribution plot',fontsize=14)\n",
    "plt.xlabel('Actual values',fontsize=12)\n",
    "plt.ylabel('Residuals',fontsize=12)\n",
    "plt.plot([], [], ' ', label=\"model: Ridge\")\n",
    "plt.legend()\n",
    "plt.tight_layout()"
   ]
  },
  {
   "cell_type": "markdown",
   "id": "d9ad4877",
   "metadata": {},
   "source": [
    "## Conclusion and Recommendations"
   ]
  },
  {
   "cell_type": "markdown",
   "id": "9507a8ea",
   "metadata": {},
   "source": [
    "From the analysis done during this project, the model has identified the best model to use is Ridge model and from that initial model, I have obtained the top 30 features based on the Ridge coefficients. \n",
    "\n",
    "To answer the problem statement where I am a home owner in Ames who is considering to sell my house and want to improve some features to significantly improve the sale price, we can look at those features which have a large impact on the sale price. \n",
    "\n",
    "<u>**Some recommendations are:**</u>\n",
    "1. Increase the area of the house in the ground living area, total basement area and in the garage area where these increases will help to increase the sale price. I can consider building an extension to the house if the space on the lot allows for it to help bring up the sale price basing on the assumption that the construction cost is not too expensive.\n",
    "\n",
    "2. A simpler approach would be to improve the quality of of the house especially in the external areas and kitchen where an increase in these areas will result in a corresponding increase in sale price as well. Through improving these areas, it will also result in an increase in the overall quality of the house. \n",
    "\n",
    "3. If my house has a rough finish for the garage, it would be a good area to do some improvement works as a garage with rough finish will lead to a decrease in sales price. \n",
    "\n",
    "Some of the other features that have been identified that would impact sales price like building class or the neighbourhood that my house is in is not easily changed or rectify. These can be factors to consider when purchasing a house within the Ames area in the future. \n",
    "\n",
    "<u>**Limitations**</u>\n",
    "1. The dataset only contains four years of sale price data from 2006 to 2010 and it is a pretty limiting dataset. From 2010 to present day, there could be changes or introduction of new features of houses that could impact sale price in this gap. For the data of year sold, the data captured is not over the entire year hence there could be missing information or trends relating to seasonality factors that is lacking. \n",
    "\n",
    "2. The dataset was only for Ames, Iowa, United States and the features could be unique to this region and the model might not be applicable to other regions or locations. An example would be the Fireplace feature. As Iowa is a mid-western state in United States, it's annual weather range is -11 to 28 degrees Celsius with an average of 20.4 degrees Celsius. Hence, the houses would have features like fireplaces which is appropriate for the weather but this might not be applicable to the southern states like Florida and Texas where the lowest temperature in those states are around 10 degrees Celsius. \n",
    "\n",
    "3. As the production model is only able to account for 87.2% of the variations in the sales price. This means that there are other features that would affect the remaining 12.8% of the variations. Some of this possible features could be the proximity of the houses to amenities, infrastructure like parks, schools, downtown area; and economic indicators.\n",
    "\n",
    "4. Lastly, in real life, the sale prices could be affected by the psychology of the buyer where an example would be a buyer valuing a certain design of the house at a premium because it might be to their liking even though it might just be categorized as a point under exterior covering feature. This might not be able to be accounted for in any model as this psychology differs from individuals. \n",
    "\n",
    "***"
   ]
  },
  {
   "cell_type": "markdown",
   "id": "607e6ea9",
   "metadata": {},
   "source": [
    "## Kaggle Submission\n",
    "***"
   ]
  },
  {
   "cell_type": "markdown",
   "id": "4dc10bfa",
   "metadata": {},
   "source": [
    "### Pre-process the test data "
   ]
  },
  {
   "cell_type": "code",
   "execution_count": 33,
   "id": "7f352eb0",
   "metadata": {},
   "outputs": [
    {
     "data": {
      "text/html": [
       "<div>\n",
       "<style scoped>\n",
       "    .dataframe tbody tr th:only-of-type {\n",
       "        vertical-align: middle;\n",
       "    }\n",
       "\n",
       "    .dataframe tbody tr th {\n",
       "        vertical-align: top;\n",
       "    }\n",
       "\n",
       "    .dataframe thead th {\n",
       "        text-align: right;\n",
       "    }\n",
       "</style>\n",
       "<table border=\"1\" class=\"dataframe\">\n",
       "  <thead>\n",
       "    <tr style=\"text-align: right;\">\n",
       "      <th></th>\n",
       "      <th>Unnamed: 0</th>\n",
       "      <th>id</th>\n",
       "      <th>ms_subclass</th>\n",
       "      <th>ms_zoning</th>\n",
       "      <th>lot_frontage</th>\n",
       "      <th>lot_area</th>\n",
       "      <th>lot_shape</th>\n",
       "      <th>lot_config</th>\n",
       "      <th>neighborhood</th>\n",
       "      <th>house_style</th>\n",
       "      <th>...</th>\n",
       "      <th>garage_type</th>\n",
       "      <th>garage_yr_blt</th>\n",
       "      <th>garage_finish</th>\n",
       "      <th>garage_area</th>\n",
       "      <th>wood_deck_sf</th>\n",
       "      <th>porch</th>\n",
       "      <th>pool</th>\n",
       "      <th>age_sold</th>\n",
       "      <th>remodelled</th>\n",
       "      <th>exterior</th>\n",
       "    </tr>\n",
       "  </thead>\n",
       "  <tbody>\n",
       "    <tr>\n",
       "      <th>0</th>\n",
       "      <td>0</td>\n",
       "      <td>2658</td>\n",
       "      <td>190</td>\n",
       "      <td>RM</td>\n",
       "      <td>69.0</td>\n",
       "      <td>9142</td>\n",
       "      <td>0</td>\n",
       "      <td>Inside</td>\n",
       "      <td>OldTown</td>\n",
       "      <td>2Story</td>\n",
       "      <td>...</td>\n",
       "      <td>Detchd</td>\n",
       "      <td>1910.0</td>\n",
       "      <td>Unf</td>\n",
       "      <td>440</td>\n",
       "      <td>0</td>\n",
       "      <td>1</td>\n",
       "      <td>0</td>\n",
       "      <td>96</td>\n",
       "      <td>1</td>\n",
       "      <td>cemt_agg</td>\n",
       "    </tr>\n",
       "    <tr>\n",
       "      <th>1</th>\n",
       "      <td>1</td>\n",
       "      <td>2718</td>\n",
       "      <td>90</td>\n",
       "      <td>RL</td>\n",
       "      <td>68.0</td>\n",
       "      <td>9662</td>\n",
       "      <td>1</td>\n",
       "      <td>Inside</td>\n",
       "      <td>Sawyer</td>\n",
       "      <td>1Story</td>\n",
       "      <td>...</td>\n",
       "      <td>Attchd</td>\n",
       "      <td>1977.0</td>\n",
       "      <td>Fin</td>\n",
       "      <td>580</td>\n",
       "      <td>170</td>\n",
       "      <td>0</td>\n",
       "      <td>0</td>\n",
       "      <td>29</td>\n",
       "      <td>0</td>\n",
       "      <td>wood</td>\n",
       "    </tr>\n",
       "    <tr>\n",
       "      <th>2</th>\n",
       "      <td>2</td>\n",
       "      <td>2414</td>\n",
       "      <td>60</td>\n",
       "      <td>RL</td>\n",
       "      <td>58.0</td>\n",
       "      <td>17104</td>\n",
       "      <td>1</td>\n",
       "      <td>Inside</td>\n",
       "      <td>Gilbert</td>\n",
       "      <td>2Story</td>\n",
       "      <td>...</td>\n",
       "      <td>Attchd</td>\n",
       "      <td>2006.0</td>\n",
       "      <td>RFn</td>\n",
       "      <td>426</td>\n",
       "      <td>100</td>\n",
       "      <td>1</td>\n",
       "      <td>0</td>\n",
       "      <td>0</td>\n",
       "      <td>0</td>\n",
       "      <td>vinyl</td>\n",
       "    </tr>\n",
       "    <tr>\n",
       "      <th>3</th>\n",
       "      <td>3</td>\n",
       "      <td>1989</td>\n",
       "      <td>30</td>\n",
       "      <td>RM</td>\n",
       "      <td>60.0</td>\n",
       "      <td>8520</td>\n",
       "      <td>0</td>\n",
       "      <td>Inside</td>\n",
       "      <td>OldTown</td>\n",
       "      <td>1Story</td>\n",
       "      <td>...</td>\n",
       "      <td>Detchd</td>\n",
       "      <td>1935.0</td>\n",
       "      <td>Unf</td>\n",
       "      <td>480</td>\n",
       "      <td>0</td>\n",
       "      <td>1</td>\n",
       "      <td>0</td>\n",
       "      <td>84</td>\n",
       "      <td>1</td>\n",
       "      <td>wood</td>\n",
       "    </tr>\n",
       "    <tr>\n",
       "      <th>4</th>\n",
       "      <td>4</td>\n",
       "      <td>625</td>\n",
       "      <td>20</td>\n",
       "      <td>RL</td>\n",
       "      <td>68.0</td>\n",
       "      <td>9500</td>\n",
       "      <td>1</td>\n",
       "      <td>Inside</td>\n",
       "      <td>NAmes</td>\n",
       "      <td>1Story</td>\n",
       "      <td>...</td>\n",
       "      <td>Attchd</td>\n",
       "      <td>1963.0</td>\n",
       "      <td>RFn</td>\n",
       "      <td>514</td>\n",
       "      <td>0</td>\n",
       "      <td>1</td>\n",
       "      <td>0</td>\n",
       "      <td>46</td>\n",
       "      <td>0</td>\n",
       "      <td>wood</td>\n",
       "    </tr>\n",
       "    <tr>\n",
       "      <th>...</th>\n",
       "      <td>...</td>\n",
       "      <td>...</td>\n",
       "      <td>...</td>\n",
       "      <td>...</td>\n",
       "      <td>...</td>\n",
       "      <td>...</td>\n",
       "      <td>...</td>\n",
       "      <td>...</td>\n",
       "      <td>...</td>\n",
       "      <td>...</td>\n",
       "      <td>...</td>\n",
       "      <td>...</td>\n",
       "      <td>...</td>\n",
       "      <td>...</td>\n",
       "      <td>...</td>\n",
       "      <td>...</td>\n",
       "      <td>...</td>\n",
       "      <td>...</td>\n",
       "      <td>...</td>\n",
       "      <td>...</td>\n",
       "      <td>...</td>\n",
       "    </tr>\n",
       "    <tr>\n",
       "      <th>873</th>\n",
       "      <td>873</td>\n",
       "      <td>1662</td>\n",
       "      <td>60</td>\n",
       "      <td>RL</td>\n",
       "      <td>80.0</td>\n",
       "      <td>8000</td>\n",
       "      <td>0</td>\n",
       "      <td>Inside</td>\n",
       "      <td>NWAmes</td>\n",
       "      <td>2Story</td>\n",
       "      <td>...</td>\n",
       "      <td>Attchd</td>\n",
       "      <td>1974.0</td>\n",
       "      <td>Unf</td>\n",
       "      <td>488</td>\n",
       "      <td>0</td>\n",
       "      <td>1</td>\n",
       "      <td>0</td>\n",
       "      <td>33</td>\n",
       "      <td>0</td>\n",
       "      <td>wood</td>\n",
       "    </tr>\n",
       "    <tr>\n",
       "      <th>874</th>\n",
       "      <td>874</td>\n",
       "      <td>1234</td>\n",
       "      <td>60</td>\n",
       "      <td>RL</td>\n",
       "      <td>90.0</td>\n",
       "      <td>14670</td>\n",
       "      <td>0</td>\n",
       "      <td>Inside</td>\n",
       "      <td>NAmes</td>\n",
       "      <td>2Story</td>\n",
       "      <td>...</td>\n",
       "      <td>Attchd</td>\n",
       "      <td>1966.0</td>\n",
       "      <td>RFn</td>\n",
       "      <td>480</td>\n",
       "      <td>0</td>\n",
       "      <td>1</td>\n",
       "      <td>0</td>\n",
       "      <td>42</td>\n",
       "      <td>1</td>\n",
       "      <td>vinyl</td>\n",
       "    </tr>\n",
       "    <tr>\n",
       "      <th>875</th>\n",
       "      <td>875</td>\n",
       "      <td>1373</td>\n",
       "      <td>20</td>\n",
       "      <td>RL</td>\n",
       "      <td>55.0</td>\n",
       "      <td>8250</td>\n",
       "      <td>0</td>\n",
       "      <td>Inside</td>\n",
       "      <td>Sawyer</td>\n",
       "      <td>1Story</td>\n",
       "      <td>...</td>\n",
       "      <td>Attchd</td>\n",
       "      <td>1968.0</td>\n",
       "      <td>Unf</td>\n",
       "      <td>322</td>\n",
       "      <td>0</td>\n",
       "      <td>1</td>\n",
       "      <td>0</td>\n",
       "      <td>40</td>\n",
       "      <td>0</td>\n",
       "      <td>wood</td>\n",
       "    </tr>\n",
       "    <tr>\n",
       "      <th>876</th>\n",
       "      <td>876</td>\n",
       "      <td>1672</td>\n",
       "      <td>20</td>\n",
       "      <td>RL</td>\n",
       "      <td>60.0</td>\n",
       "      <td>9000</td>\n",
       "      <td>0</td>\n",
       "      <td>FR2</td>\n",
       "      <td>NAmes</td>\n",
       "      <td>1Story</td>\n",
       "      <td>...</td>\n",
       "      <td>Detchd</td>\n",
       "      <td>1974.0</td>\n",
       "      <td>Unf</td>\n",
       "      <td>528</td>\n",
       "      <td>0</td>\n",
       "      <td>0</td>\n",
       "      <td>0</td>\n",
       "      <td>36</td>\n",
       "      <td>0</td>\n",
       "      <td>wood</td>\n",
       "    </tr>\n",
       "    <tr>\n",
       "      <th>877</th>\n",
       "      <td>877</td>\n",
       "      <td>1939</td>\n",
       "      <td>20</td>\n",
       "      <td>RL</td>\n",
       "      <td>70.0</td>\n",
       "      <td>8400</td>\n",
       "      <td>0</td>\n",
       "      <td>Corner</td>\n",
       "      <td>NAmes</td>\n",
       "      <td>1Story</td>\n",
       "      <td>...</td>\n",
       "      <td>Attchd</td>\n",
       "      <td>1955.0</td>\n",
       "      <td>Unf</td>\n",
       "      <td>390</td>\n",
       "      <td>81</td>\n",
       "      <td>0</td>\n",
       "      <td>0</td>\n",
       "      <td>52</td>\n",
       "      <td>0</td>\n",
       "      <td>metal</td>\n",
       "    </tr>\n",
       "  </tbody>\n",
       "</table>\n",
       "<p>878 rows × 39 columns</p>\n",
       "</div>"
      ],
      "text/plain": [
       "     Unnamed: 0    id  ms_subclass ms_zoning  lot_frontage  lot_area  \\\n",
       "0             0  2658          190        RM          69.0      9142   \n",
       "1             1  2718           90        RL          68.0      9662   \n",
       "2             2  2414           60        RL          58.0     17104   \n",
       "3             3  1989           30        RM          60.0      8520   \n",
       "4             4   625           20        RL          68.0      9500   \n",
       "..          ...   ...          ...       ...           ...       ...   \n",
       "873         873  1662           60        RL          80.0      8000   \n",
       "874         874  1234           60        RL          90.0     14670   \n",
       "875         875  1373           20        RL          55.0      8250   \n",
       "876         876  1672           20        RL          60.0      9000   \n",
       "877         877  1939           20        RL          70.0      8400   \n",
       "\n",
       "     lot_shape lot_config neighborhood house_style  ...  garage_type  \\\n",
       "0            0     Inside      OldTown      2Story  ...       Detchd   \n",
       "1            1     Inside       Sawyer      1Story  ...       Attchd   \n",
       "2            1     Inside      Gilbert      2Story  ...       Attchd   \n",
       "3            0     Inside      OldTown      1Story  ...       Detchd   \n",
       "4            1     Inside        NAmes      1Story  ...       Attchd   \n",
       "..         ...        ...          ...         ...  ...          ...   \n",
       "873          0     Inside       NWAmes      2Story  ...       Attchd   \n",
       "874          0     Inside        NAmes      2Story  ...       Attchd   \n",
       "875          0     Inside       Sawyer      1Story  ...       Attchd   \n",
       "876          0        FR2        NAmes      1Story  ...       Detchd   \n",
       "877          0     Corner        NAmes      1Story  ...       Attchd   \n",
       "\n",
       "    garage_yr_blt garage_finish  garage_area  wood_deck_sf porch  pool  \\\n",
       "0          1910.0           Unf          440             0     1     0   \n",
       "1          1977.0           Fin          580           170     0     0   \n",
       "2          2006.0           RFn          426           100     1     0   \n",
       "3          1935.0           Unf          480             0     1     0   \n",
       "4          1963.0           RFn          514             0     1     0   \n",
       "..            ...           ...          ...           ...   ...   ...   \n",
       "873        1974.0           Unf          488             0     1     0   \n",
       "874        1966.0           RFn          480             0     1     0   \n",
       "875        1968.0           Unf          322             0     1     0   \n",
       "876        1974.0           Unf          528             0     0     0   \n",
       "877        1955.0           Unf          390            81     0     0   \n",
       "\n",
       "    age_sold  remodelled  exterior  \n",
       "0         96           1  cemt_agg  \n",
       "1         29           0      wood  \n",
       "2          0           0     vinyl  \n",
       "3         84           1      wood  \n",
       "4         46           0      wood  \n",
       "..       ...         ...       ...  \n",
       "873       33           0      wood  \n",
       "874       42           1     vinyl  \n",
       "875       40           0      wood  \n",
       "876       36           0      wood  \n",
       "877       52           0     metal  \n",
       "\n",
       "[878 rows x 39 columns]"
      ]
     },
     "execution_count": 33,
     "metadata": {},
     "output_type": "execute_result"
    }
   ],
   "source": [
    "# import test result\n",
    "\n",
    "test_eng = pd.read_csv('../datasets/test_eng.csv')\n",
    "test_eng"
   ]
  },
  {
   "cell_type": "code",
   "execution_count": 34,
   "id": "f8261271",
   "metadata": {},
   "outputs": [],
   "source": [
    "# remove unnamed column\n",
    "test_eng = test_eng.iloc[:, 1:]\n",
    "\n",
    "# change the ms_subclass column to str type\n",
    "test_eng['ms_subclass'] = test_eng['ms_subclass'].astype(str);"
   ]
  },
  {
   "cell_type": "code",
   "execution_count": 35,
   "id": "d5d89944",
   "metadata": {},
   "outputs": [
    {
     "name": "stdout",
     "output_type": "stream",
     "text": [
      "<class 'pandas.core.frame.DataFrame'>\n",
      "RangeIndex: 878 entries, 0 to 877\n",
      "Data columns (total 38 columns):\n",
      " #   Column          Non-Null Count  Dtype  \n",
      "---  ------          --------------  -----  \n",
      " 0   id              878 non-null    int64  \n",
      " 1   ms_subclass     878 non-null    object \n",
      " 2   ms_zoning       878 non-null    object \n",
      " 3   lot_frontage    878 non-null    float64\n",
      " 4   lot_area        878 non-null    int64  \n",
      " 5   lot_shape       878 non-null    int64  \n",
      " 6   lot_config      878 non-null    object \n",
      " 7   neighborhood    878 non-null    object \n",
      " 8   house_style     878 non-null    object \n",
      " 9   overall_qual    878 non-null    int64  \n",
      " 10  roof_style      878 non-null    object \n",
      " 11  mas_vnr_type    878 non-null    object \n",
      " 12  mas_vnr_area    878 non-null    float64\n",
      " 13  exter_qual      878 non-null    int64  \n",
      " 14  foundation      878 non-null    object \n",
      " 15  bsmt_qual       878 non-null    int64  \n",
      " 16  bsmt_exposure   878 non-null    object \n",
      " 17  bsmtfin_type_1  878 non-null    int64  \n",
      " 18  total_bsmt_sf   878 non-null    int64  \n",
      " 19  heating_qc      878 non-null    int64  \n",
      " 20  1st_flr_sf      878 non-null    int64  \n",
      " 21  gr_liv_area     878 non-null    int64  \n",
      " 22  bsmt_full_bath  878 non-null    int64  \n",
      " 23  full_bath       878 non-null    int64  \n",
      " 24  half_bath       878 non-null    int64  \n",
      " 25  kitchen_qual    878 non-null    int64  \n",
      " 26  fireplaces      878 non-null    int64  \n",
      " 27  fireplace_qu    878 non-null    int64  \n",
      " 28  garage_type     878 non-null    object \n",
      " 29  garage_yr_blt   878 non-null    float64\n",
      " 30  garage_finish   878 non-null    object \n",
      " 31  garage_area     878 non-null    int64  \n",
      " 32  wood_deck_sf    878 non-null    int64  \n",
      " 33  porch           878 non-null    int64  \n",
      " 34  pool            878 non-null    int64  \n",
      " 35  age_sold        878 non-null    int64  \n",
      " 36  remodelled      878 non-null    int64  \n",
      " 37  exterior        878 non-null    object \n",
      "dtypes: float64(3), int64(23), object(12)\n",
      "memory usage: 260.8+ KB\n"
     ]
    }
   ],
   "source": [
    "test_eng.info()"
   ]
  },
  {
   "cell_type": "markdown",
   "id": "9c4eecbf",
   "metadata": {},
   "source": [
    "#### Get dummies for test data"
   ]
  },
  {
   "cell_type": "code",
   "execution_count": 36,
   "id": "5254d487",
   "metadata": {
    "scrolled": false
   },
   "outputs": [],
   "source": [
    "# Get dummies for the test data set\n",
    "test_dummies = pd.get_dummies(test_eng)"
   ]
  },
  {
   "cell_type": "markdown",
   "id": "fd57a82b",
   "metadata": {},
   "source": [
    "#### Slicing test data to only include the top features from production model"
   ]
  },
  {
   "cell_type": "code",
   "execution_count": 37,
   "id": "c0ec43c7",
   "metadata": {},
   "outputs": [
    {
     "data": {
      "text/plain": [
       "(878, 30)"
      ]
     },
     "execution_count": 37,
     "metadata": {},
     "output_type": "execute_result"
    }
   ],
   "source": [
    "test_sliced = test_dummies[thirty_lst]\n",
    "test_sliced.shape # to check on the number of columns\n"
   ]
  },
  {
   "cell_type": "code",
   "execution_count": 38,
   "id": "d977a877",
   "metadata": {},
   "outputs": [
    {
     "data": {
      "text/plain": [
       "(1429, 30)"
      ]
     },
     "execution_count": 38,
     "metadata": {},
     "output_type": "execute_result"
    }
   ],
   "source": [
    "# to check on the number of columns\n",
    "Xtrain.shape"
   ]
  },
  {
   "cell_type": "markdown",
   "id": "f6097b9c",
   "metadata": {},
   "source": [
    "#### Scale the test data"
   ]
  },
  {
   "cell_type": "code",
   "execution_count": 39,
   "id": "dba5db6b",
   "metadata": {},
   "outputs": [],
   "source": [
    "test_ss = ss.transform(test_sliced)"
   ]
  },
  {
   "cell_type": "markdown",
   "id": "4f40140e",
   "metadata": {},
   "source": [
    "### Predict the values from the test dataset (Ridge model with 30 features)"
   ]
  },
  {
   "cell_type": "code",
   "execution_count": 40,
   "id": "26c6bce2",
   "metadata": {
    "scrolled": true
   },
   "outputs": [
    {
     "data": {
      "text/plain": [
       "(878,)"
      ]
     },
     "execution_count": 40,
     "metadata": {},
     "output_type": "execute_result"
    }
   ],
   "source": [
    "kaggle_pred = ridge_pmodel.predict(test_ss)\n",
    "kaggle_pred.shape"
   ]
  },
  {
   "cell_type": "code",
   "execution_count": 41,
   "id": "6cb616bb",
   "metadata": {},
   "outputs": [
    {
     "data": {
      "image/png": "[encoded data removed]",
      "text/plain": [
       "<Figure size 432x288 with 1 Axes>"
      ]
     },
     "metadata": {},
     "output_type": "display_data"
    }
   ],
   "source": [
    "# to check and visualise the distribution of the results to ensure there is no issue\n",
    "plt.hist(kaggle_pred);"
   ]
  },
  {
   "cell_type": "markdown",
   "id": "6dba9bdc",
   "metadata": {},
   "source": [
    "#### Export data for Kaggle submission \n",
    "\n",
    "Create a new dataframe called ```export``` by joining back the ID column of the test data set for Kaggle submission."
   ]
  },
  {
   "cell_type": "code",
   "execution_count": 42,
   "id": "2302665f",
   "metadata": {},
   "outputs": [
    {
     "data": {
      "text/plain": [
       "(878, 2)"
      ]
     },
     "execution_count": 42,
     "metadata": {},
     "output_type": "execute_result"
    }
   ],
   "source": [
    "# create a new dataframe call export with 2 columns with 1 being ID and the other being 'SalePrice'\n",
    "export = pd.DataFrame({'Id': test_eng['id'], 'SalePrice': kaggle_pred}) \n",
    "\n",
    "export.shape # to check that there are 878 rows which is required for Kaggle submissions"
   ]
  },
  {
   "cell_type": "code",
   "execution_count": 43,
   "id": "708219d7",
   "metadata": {},
   "outputs": [],
   "source": [
    "export.to_csv('../datasets/kaggle_results.csv', index =False)"
   ]
  },
  {
   "cell_type": "markdown",
   "id": "be59ffa4",
   "metadata": {},
   "source": [
    "#### Kaggle Score for Ridge model with 30 features\n",
    "\n",
    "Kaggle private score: **24637**"
   ]
  },
  {
   "cell_type": "markdown",
   "id": "0050a508",
   "metadata": {},
   "source": [
    "### Predict the values from the test dataset (Alternative: Lasso model with 30 features)"
   ]
  },
  {
   "cell_type": "code",
   "execution_count": 44,
   "id": "d98d927d",
   "metadata": {},
   "outputs": [
    {
     "data": {
      "text/plain": [
       "array([-0.00000000e+00,  4.48504724e+03,  3.76113612e+03,  3.57371787e+03,\n",
       "        6.59634873e+03,  1.58512726e+02,  1.99594110e+03,  1.64870701e+01,\n",
       "        6.26703658e+03, -0.00000000e+00,  2.31279532e+04,  1.90047312e+03,\n",
       "        1.88151869e+03,  2.58915213e+02,  6.15593165e+03,  4.28564041e+03,\n",
       "        1.61371793e+03, -6.51478998e+02,  5.69441764e+03,  1.41448614e+04,\n",
       "        9.56248014e+03,  2.09943762e+03, -0.00000000e+00, -1.31772342e+03,\n",
       "       -4.92446968e+03,  1.31443164e+03,  5.53349252e+03, -1.25655697e+03,\n",
       "       -2.62783913e+03,  2.92395986e+03, -6.35947656e+02,  2.12609335e+02,\n",
       "        1.01972315e+03,  8.62709017e+02,  1.96037852e+01,  1.39331821e+03,\n",
       "       -3.93587065e+03, -1.95844562e+03,  5.42123480e+02, -5.22097312e+02,\n",
       "        0.00000000e+00, -4.15226044e+02,  9.63065307e+02,  1.42683403e+00,\n",
       "       -0.00000000e+00, -2.18897303e+03,  1.85456575e+02, -0.00000000e+00,\n",
       "       -0.00000000e+00,  3.84386416e+02,  0.00000000e+00,  1.65160253e+03,\n",
       "       -3.37973236e+02, -8.86479663e+01,  4.10488413e+02,  0.00000000e+00,\n",
       "        4.25524314e+03,  2.64926262e+03, -6.93075948e+02, -1.65956781e+03,\n",
       "        0.00000000e+00, -0.00000000e+00,  9.58082529e+03,  4.49955760e+03,\n",
       "        8.41178002e+02,  1.51780306e+03,  2.75554846e+03,  4.38168396e+03,\n",
       "        1.63046306e+03,  2.50251740e+03,  2.58168661e+03,  1.44946220e+03,\n",
       "       -4.08407795e+01, -0.00000000e+00,  2.94529696e+03,  2.83919270e+02,\n",
       "       -0.00000000e+00,  2.24712741e+03, -0.00000000e+00,  4.29432895e+02,\n",
       "        1.52927163e+03,  1.36575797e+03, -7.54624153e+02, -9.99488144e+02,\n",
       "        2.63247369e+03, -2.01712799e+03, -8.96075462e+02, -8.56316194e+02,\n",
       "        3.41137211e+03, -4.76806792e+02,  1.73504371e+02,  3.83721844e+02,\n",
       "        7.86815126e+01, -2.80504545e+02,  1.95850060e+03, -1.51238493e+02,\n",
       "        2.24664684e+03,  6.65389881e+03,  0.00000000e+00, -6.32569387e+02,\n",
       "        0.00000000e+00, -1.60808843e+03,  0.00000000e+00,  7.03578050e+03,\n",
       "       -0.00000000e+00, -0.00000000e+00,  0.00000000e+00,  3.01225930e+01,\n",
       "        3.27523706e+03, -2.31490754e+03, -3.11981660e+02,  0.00000000e+00,\n",
       "       -7.98679504e+02, -8.36166107e+02, -3.09907671e+03, -4.35287618e+03])"
      ]
     },
     "execution_count": 44,
     "metadata": {},
     "output_type": "execute_result"
    }
   ],
   "source": [
    "lasso.coef_"
   ]
  },
  {
   "cell_type": "code",
   "execution_count": 45,
   "id": "e850b95a",
   "metadata": {},
   "outputs": [
    {
     "name": "stdout",
     "output_type": "stream",
     "text": [
      "Optimal Lasso alpha:  65.55497774231121\n",
      "Best Lasso R2:  0.899874613843649\n"
     ]
    }
   ],
   "source": [
    "lasso_kaggle = LassoCV(n_alphas = 500, cv = 10)\n",
    "lasso_kaggle = lasso_kaggle.fit(Xtrain_ss, ytrain)\n",
    "\n",
    "print('Optimal Lasso alpha: ', lasso_kaggle.alpha_)\n",
    "print('Best Lasso R2: ', lasso_kaggle.score(Xtrain_ss, ytrain))"
   ]
  },
  {
   "cell_type": "code",
   "execution_count": 46,
   "id": "1193201b",
   "metadata": {},
   "outputs": [
    {
     "data": {
      "text/plain": [
       "Lasso(alpha=65.55497774231121)"
      ]
     },
     "execution_count": 46,
     "metadata": {},
     "output_type": "execute_result"
    }
   ],
   "source": [
    "lasso_kmodel = Lasso(alpha = lasso_kaggle.alpha_)\n",
    "lasso_kmodel.fit(Xtrain_ss, ytrain)"
   ]
  },
  {
   "cell_type": "code",
   "execution_count": 47,
   "id": "eee165f3",
   "metadata": {},
   "outputs": [
    {
     "data": {
      "text/plain": [
       "(878,)"
      ]
     },
     "execution_count": 47,
     "metadata": {},
     "output_type": "execute_result"
    }
   ],
   "source": [
    "kaggle_lasso_pred = lasso_kmodel.predict(test_ss)\n",
    "kaggle_lasso_pred.shape"
   ]
  },
  {
   "cell_type": "markdown",
   "id": "5321245e",
   "metadata": {},
   "source": [
    "#### Export data for Kaggle submission (Lasso)\n",
    "\n",
    "Create a new dataframe called ```export_lasso``` by joining back the ID column of the test data set for Kaggle submission."
   ]
  },
  {
   "cell_type": "code",
   "execution_count": 48,
   "id": "b0ae32b9",
   "metadata": {},
   "outputs": [
    {
     "data": {
      "text/plain": [
       "(878, 2)"
      ]
     },
     "execution_count": 48,
     "metadata": {},
     "output_type": "execute_result"
    }
   ],
   "source": [
    "# create a new dataframe call export with 2 columns with 1 being ID and the other being 'SalePrice'\n",
    "export_lasso = pd.DataFrame({'Id': test_eng['id'], 'SalePrice': kaggle_lasso_pred}) \n",
    "\n",
    "export_lasso.shape # to check that there are 878 rows which is required for Kaggle submissions"
   ]
  },
  {
   "cell_type": "code",
   "execution_count": 49,
   "id": "c745e76d",
   "metadata": {},
   "outputs": [],
   "source": [
    "export_lasso.to_csv('../datasets/kaggle_results_lasso.csv', index =False)"
   ]
  },
  {
   "cell_type": "markdown",
   "id": "075dd834",
   "metadata": {},
   "source": [
    "#### Kaggle Score for Lasso model with 30 features\n",
    "\n",
    "Kaggle private score: **24577**"
   ]
  },
  {
   "cell_type": "markdown",
   "id": "839f76f8",
   "metadata": {},
   "source": [
    "### Kaggle Scores Conclusion\n",
    "\n",
    "For the Kaggle Scores, it can be see that the Lasso model (RMSE: 24577) outperformed the Ridge model (RMSE: 24637) slightly for the top 30 features picked out to be used for the production model. "
   ]
  },
  {
   "attachments": {
    "Kaggle%20Scores%20Screenshot.PNG": {
     "image/png": "[encoded data removed]"
    }
   },
   "cell_type": "markdown",
   "id": "7e892170",
   "metadata": {},
   "source": [
    "![Kaggle%20Scores%20Screenshot.PNG](attachment:Kaggle%20Scores%20Screenshot.PNG)"
   ]
  }
 ],
 "metadata": {
  "kernelspec": {
   "display_name": "Python 3",
   "language": "python",
   "name": "python3"
  },
  "language_info": {
   "codemirror_mode": {
    "name": "ipython",
    "version": 3
   },
   "file_extension": ".py",
   "mimetype": "text/x-python",
   "name": "python",
   "nbconvert_exporter": "python",
   "pygments_lexer": "ipython3",
   "version": "3.8.8"
  },
  "toc": {
   "base_numbering": 1,
   "nav_menu": {},
   "number_sections": false,
   "sideBar": true,
   "skip_h1_title": false,
   "title_cell": "Table of Contents",
   "title_sidebar": "Contents",
   "toc_cell": false,
   "toc_position": {
    "height": "calc(100% - 180px)",
    "left": "10px",
    "top": "150px",
    "width": "220.75px"
   },
   "toc_section_display": true,
   "toc_window_display": true
  }
 },
 "nbformat": 4,
 "nbformat_minor": 5
}
